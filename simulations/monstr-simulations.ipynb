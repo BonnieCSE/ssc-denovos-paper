{
 "cells": [
  {
   "cell_type": "code",
   "execution_count": 73,
   "metadata": {},
   "outputs": [
    {
     "name": "stdout",
     "output_type": "stream",
     "text": [
      "Populating the interactive namespace from numpy and matplotlib\n"
     ]
    }
   ],
   "source": [
    "%pylab inline\n",
    "\n",
    "import pandas as pd\n",
    "\n",
    "import matplotlib\n",
    "matplotlib.rcParams['pdf.fonttype'] = 42\n",
    "matplotlib.rcParams['ps.fonttype'] = 42\n",
    "import numpy as np\n",
    "\n",
    "##### set up #######\n",
    "sfams = [\"Q%s\"%ind for ind in range(1, 15)]\n",
    "sizes = [1, -1, 2, -2, 4, -4, 8, -8, 10, -10, 15, 20, 25, 30]\n",
    "sizefams = dict(zip(sfams, sizes))\n",
    "\n",
    "cfams = [\"F%s\"%ind for ind in range(1, 13)]\n",
    "covs = [1,1,5,5,10,10,20,20,30,30,50,50]\n",
    "covfams = dict(zip(cfams, covs))\n",
    "\n",
    "trs_per_fam = 10 # update to 100\n",
    "covs = sorted(list(set(covs)))\n",
    "thresh = 0.5\n"
   ]
  },
  {
   "cell_type": "code",
   "execution_count": 113,
   "metadata": {},
   "outputs": [
    {
     "data": {
      "text/html": [
       "<div>\n",
       "<style scoped>\n",
       "    .dataframe tbody tr th:only-of-type {\n",
       "        vertical-align: middle;\n",
       "    }\n",
       "\n",
       "    .dataframe tbody tr th {\n",
       "        vertical-align: top;\n",
       "    }\n",
       "\n",
       "    .dataframe thead th {\n",
       "        text-align: right;\n",
       "    }\n",
       "</style>\n",
       "<table border=\"1\" class=\"dataframe\">\n",
       "  <thead>\n",
       "    <tr style=\"text-align: right;\">\n",
       "      <th></th>\n",
       "      <th>chrom</th>\n",
       "      <th>pos</th>\n",
       "      <th>end</th>\n",
       "      <th>period</th>\n",
       "      <th>reflen</th>\n",
       "    </tr>\n",
       "  </thead>\n",
       "  <tbody>\n",
       "    <tr>\n",
       "      <th>0</th>\n",
       "      <td>chr15</td>\n",
       "      <td>17019727</td>\n",
       "      <td>17019738</td>\n",
       "      <td>3</td>\n",
       "      <td>4.0</td>\n",
       "    </tr>\n",
       "    <tr>\n",
       "      <th>1</th>\n",
       "      <td>chr15</td>\n",
       "      <td>17026436</td>\n",
       "      <td>17026447</td>\n",
       "      <td>1</td>\n",
       "      <td>12.0</td>\n",
       "    </tr>\n",
       "    <tr>\n",
       "      <th>2</th>\n",
       "      <td>chr15</td>\n",
       "      <td>17035572</td>\n",
       "      <td>17035583</td>\n",
       "      <td>3</td>\n",
       "      <td>4.0</td>\n",
       "    </tr>\n",
       "    <tr>\n",
       "      <th>3</th>\n",
       "      <td>chr15</td>\n",
       "      <td>17043558</td>\n",
       "      <td>17043569</td>\n",
       "      <td>3</td>\n",
       "      <td>4.0</td>\n",
       "    </tr>\n",
       "    <tr>\n",
       "      <th>4</th>\n",
       "      <td>chr15</td>\n",
       "      <td>17079695</td>\n",
       "      <td>17079706</td>\n",
       "      <td>3</td>\n",
       "      <td>4.0</td>\n",
       "    </tr>\n",
       "    <tr>\n",
       "      <th>...</th>\n",
       "      <td>...</td>\n",
       "      <td>...</td>\n",
       "      <td>...</td>\n",
       "      <td>...</td>\n",
       "      <td>...</td>\n",
       "    </tr>\n",
       "    <tr>\n",
       "      <th>1340261</th>\n",
       "      <td>chr14</td>\n",
       "      <td>106862486</td>\n",
       "      <td>106862497</td>\n",
       "      <td>4</td>\n",
       "      <td>3.0</td>\n",
       "    </tr>\n",
       "    <tr>\n",
       "      <th>1340262</th>\n",
       "      <td>chr14</td>\n",
       "      <td>106871601</td>\n",
       "      <td>106871612</td>\n",
       "      <td>4</td>\n",
       "      <td>3.0</td>\n",
       "    </tr>\n",
       "    <tr>\n",
       "      <th>1340263</th>\n",
       "      <td>chr14</td>\n",
       "      <td>106872606</td>\n",
       "      <td>106872617</td>\n",
       "      <td>4</td>\n",
       "      <td>3.0</td>\n",
       "    </tr>\n",
       "    <tr>\n",
       "      <th>1340264</th>\n",
       "      <td>chr14</td>\n",
       "      <td>106879224</td>\n",
       "      <td>106879236</td>\n",
       "      <td>1</td>\n",
       "      <td>13.0</td>\n",
       "    </tr>\n",
       "    <tr>\n",
       "      <th>1340265</th>\n",
       "      <td>chr14</td>\n",
       "      <td>106882306</td>\n",
       "      <td>106882317</td>\n",
       "      <td>4</td>\n",
       "      <td>3.0</td>\n",
       "    </tr>\n",
       "  </tbody>\n",
       "</table>\n",
       "<p>1340266 rows × 5 columns</p>\n",
       "</div>"
      ],
      "text/plain": [
       "         chrom        pos        end  period  reflen\n",
       "0        chr15   17019727   17019738       3     4.0\n",
       "1        chr15   17026436   17026447       1    12.0\n",
       "2        chr15   17035572   17035583       3     4.0\n",
       "3        chr15   17043558   17043569       3     4.0\n",
       "4        chr15   17079695   17079706       3     4.0\n",
       "...        ...        ...        ...     ...     ...\n",
       "1340261  chr14  106862486  106862497       4     3.0\n",
       "1340262  chr14  106871601  106871612       4     3.0\n",
       "1340263  chr14  106872606  106872617       4     3.0\n",
       "1340264  chr14  106879224  106879236       1    13.0\n",
       "1340265  chr14  106882306  106882317       4     3.0\n",
       "\n",
       "[1340266 rows x 5 columns]"
      ]
     },
     "execution_count": 113,
     "metadata": {},
     "output_type": "execute_result"
    }
   ],
   "source": [
    "# Load sizes\n",
    "gref = pd.read_csv(\"hg38_ver17.bed\", sep=\"\\t\", names=[\"chrom\",\"pos\",\"end\",\"period\"], usecols=range(4))\n",
    "gref[\"reflen\"] = gref.apply(lambda x: (x[\"end\"]-x[\"pos\"]+1)/x[\"period\"], 1)\n",
    "gref"
   ]
  },
  {
   "cell_type": "code",
   "execution_count": 132,
   "metadata": {},
   "outputs": [
    {
     "data": {
      "text/html": [
       "<div>\n",
       "<style scoped>\n",
       "    .dataframe tbody tr th:only-of-type {\n",
       "        vertical-align: middle;\n",
       "    }\n",
       "\n",
       "    .dataframe tbody tr th {\n",
       "        vertical-align: top;\n",
       "    }\n",
       "\n",
       "    .dataframe thead th {\n",
       "        text-align: right;\n",
       "    }\n",
       "</style>\n",
       "<table border=\"1\" class=\"dataframe\">\n",
       "  <thead>\n",
       "    <tr style=\"text-align: right;\">\n",
       "      <th></th>\n",
       "      <th>chrom</th>\n",
       "      <th>pos</th>\n",
       "      <th>period</th>\n",
       "      <th>prior</th>\n",
       "      <th>famid</th>\n",
       "      <th>sampid</th>\n",
       "      <th>phenotype</th>\n",
       "      <th>posterior</th>\n",
       "      <th>newallele</th>\n",
       "      <th>mutsize</th>\n",
       "    </tr>\n",
       "  </thead>\n",
       "  <tbody>\n",
       "    <tr>\n",
       "      <th>0</th>\n",
       "      <td>chr1</td>\n",
       "      <td>37747553</td>\n",
       "      <td>1</td>\n",
       "      <td>0.001</td>\n",
       "      <td>F5</td>\n",
       "      <td>HealthyChild</td>\n",
       "      <td>1</td>\n",
       "      <td>1.333650e-05</td>\n",
       "      <td>0</td>\n",
       "      <td>0</td>\n",
       "    </tr>\n",
       "    <tr>\n",
       "      <th>1</th>\n",
       "      <td>chr1</td>\n",
       "      <td>37747553</td>\n",
       "      <td>1</td>\n",
       "      <td>0.001</td>\n",
       "      <td>F5</td>\n",
       "      <td>ProbandChild</td>\n",
       "      <td>2</td>\n",
       "      <td>4.623010e-06</td>\n",
       "      <td>0</td>\n",
       "      <td>0</td>\n",
       "    </tr>\n",
       "    <tr>\n",
       "      <th>2</th>\n",
       "      <td>chr1</td>\n",
       "      <td>37747771</td>\n",
       "      <td>3</td>\n",
       "      <td>0.001</td>\n",
       "      <td>F5</td>\n",
       "      <td>HealthyChild</td>\n",
       "      <td>1</td>\n",
       "      <td>1.943960e-07</td>\n",
       "      <td>0</td>\n",
       "      <td>0</td>\n",
       "    </tr>\n",
       "    <tr>\n",
       "      <th>3</th>\n",
       "      <td>chr1</td>\n",
       "      <td>37747771</td>\n",
       "      <td>3</td>\n",
       "      <td>0.001</td>\n",
       "      <td>F5</td>\n",
       "      <td>ProbandChild</td>\n",
       "      <td>2</td>\n",
       "      <td>2.902030e-06</td>\n",
       "      <td>0</td>\n",
       "      <td>0</td>\n",
       "    </tr>\n",
       "    <tr>\n",
       "      <th>4</th>\n",
       "      <td>chr1</td>\n",
       "      <td>37748919</td>\n",
       "      <td>1</td>\n",
       "      <td>0.001</td>\n",
       "      <td>F5</td>\n",
       "      <td>HealthyChild</td>\n",
       "      <td>1</td>\n",
       "      <td>2.603150e-05</td>\n",
       "      <td>0</td>\n",
       "      <td>0</td>\n",
       "    </tr>\n",
       "    <tr>\n",
       "      <th>...</th>\n",
       "      <td>...</td>\n",
       "      <td>...</td>\n",
       "      <td>...</td>\n",
       "      <td>...</td>\n",
       "      <td>...</td>\n",
       "      <td>...</td>\n",
       "      <td>...</td>\n",
       "      <td>...</td>\n",
       "      <td>...</td>\n",
       "      <td>...</td>\n",
       "    </tr>\n",
       "    <tr>\n",
       "      <th>1399</th>\n",
       "      <td>chr2</td>\n",
       "      <td>24305577</td>\n",
       "      <td>1</td>\n",
       "      <td>0.001</td>\n",
       "      <td>Q10</td>\n",
       "      <td>ProbandChild</td>\n",
       "      <td>2</td>\n",
       "      <td>4.181410e-16</td>\n",
       "      <td>0</td>\n",
       "      <td>0</td>\n",
       "    </tr>\n",
       "    <tr>\n",
       "      <th>1400</th>\n",
       "      <td>chr2</td>\n",
       "      <td>24306810</td>\n",
       "      <td>1</td>\n",
       "      <td>0.001</td>\n",
       "      <td>Q10</td>\n",
       "      <td>HealthyChild</td>\n",
       "      <td>1</td>\n",
       "      <td>2.598080e-16</td>\n",
       "      <td>0</td>\n",
       "      <td>0</td>\n",
       "    </tr>\n",
       "    <tr>\n",
       "      <th>1401</th>\n",
       "      <td>chr2</td>\n",
       "      <td>24306810</td>\n",
       "      <td>1</td>\n",
       "      <td>0.001</td>\n",
       "      <td>Q10</td>\n",
       "      <td>ProbandChild</td>\n",
       "      <td>2</td>\n",
       "      <td>4.408710e-17</td>\n",
       "      <td>0</td>\n",
       "      <td>0</td>\n",
       "    </tr>\n",
       "    <tr>\n",
       "      <th>1402</th>\n",
       "      <td>chr2</td>\n",
       "      <td>24307354</td>\n",
       "      <td>1</td>\n",
       "      <td>0.001</td>\n",
       "      <td>Q10</td>\n",
       "      <td>HealthyChild</td>\n",
       "      <td>1</td>\n",
       "      <td>5.410540e-17</td>\n",
       "      <td>0</td>\n",
       "      <td>0</td>\n",
       "    </tr>\n",
       "    <tr>\n",
       "      <th>1403</th>\n",
       "      <td>chr2</td>\n",
       "      <td>24307354</td>\n",
       "      <td>1</td>\n",
       "      <td>0.001</td>\n",
       "      <td>Q10</td>\n",
       "      <td>ProbandChild</td>\n",
       "      <td>2</td>\n",
       "      <td>1.000000e+00</td>\n",
       "      <td>2</td>\n",
       "      <td>-10</td>\n",
       "    </tr>\n",
       "  </tbody>\n",
       "</table>\n",
       "<p>1404 rows × 10 columns</p>\n",
       "</div>"
      ],
      "text/plain": [
       "     chrom       pos  period  prior famid        sampid  phenotype  \\\n",
       "0     chr1  37747553       1  0.001    F5  HealthyChild          1   \n",
       "1     chr1  37747553       1  0.001    F5  ProbandChild          2   \n",
       "2     chr1  37747771       3  0.001    F5  HealthyChild          1   \n",
       "3     chr1  37747771       3  0.001    F5  ProbandChild          2   \n",
       "4     chr1  37748919       1  0.001    F5  HealthyChild          1   \n",
       "...    ...       ...     ...    ...   ...           ...        ...   \n",
       "1399  chr2  24305577       1  0.001   Q10  ProbandChild          2   \n",
       "1400  chr2  24306810       1  0.001   Q10  HealthyChild          1   \n",
       "1401  chr2  24306810       1  0.001   Q10  ProbandChild          2   \n",
       "1402  chr2  24307354       1  0.001   Q10  HealthyChild          1   \n",
       "1403  chr2  24307354       1  0.001   Q10  ProbandChild          2   \n",
       "\n",
       "         posterior  newallele  mutsize  \n",
       "0     1.333650e-05          0        0  \n",
       "1     4.623010e-06          0        0  \n",
       "2     1.943960e-07          0        0  \n",
       "3     2.902030e-06          0        0  \n",
       "4     2.603150e-05          0        0  \n",
       "...            ...        ...      ...  \n",
       "1399  4.181410e-16          0        0  \n",
       "1400  2.598080e-16          0        0  \n",
       "1401  4.408710e-17          0        0  \n",
       "1402  5.410540e-17          0        0  \n",
       "1403  1.000000e+00          2      -10  \n",
       "\n",
       "[1404 rows x 10 columns]"
      ]
     },
     "execution_count": 132,
     "metadata": {},
     "output_type": "execute_result"
    }
   ],
   "source": [
    "data"
   ]
  },
  {
   "cell_type": "code",
   "execution_count": 141,
   "metadata": {
    "scrolled": false
   },
   "outputs": [],
   "source": [
    "def MutBarPlot(counts, xlabels, fname=None):\n",
    "    # normalize counts to sum to 1\n",
    "    for i in range(len(counts)):\n",
    "        counts[i] = counts[i]/np.sum(counts[i])\n",
    "    \n",
    "    fig = plt.figure()\n",
    "    fig.set_size_inches((6, 3))\n",
    "    ax = fig.add_subplot(111)\n",
    "    bottoms = [0]*len(xlabels)\n",
    "    colors = [\"red\",\"black\",\"gray\"] # mut, nomut, nocall\n",
    "    for i in range(len(counts[0])):\n",
    "        ax.bar(range(len(counts)), [item[i] for item in counts], bottom=bottoms, color=colors[i])\n",
    "        bottoms = [bottoms[j] + counts[j][i] for j in range(len(counts))]\n",
    "    ax.set_xticks(range(len(counts)))\n",
    "    ax.set_xticklabels(xlabels)\n",
    "    ax.set_ylabel(\"Number of loci\")\n",
    "    if fname is not None: fig.savefig(fname)\n",
    "        \n",
    "def PlotSimulations(method, covs, sizes, thresh, gref):\n",
    "    if method == \"naive\":\n",
    "        fname = \"monstr_simulate_denovos.naive.all_mutations.txt\"\n",
    "    if method == \"model\":\n",
    "        fname = \"monstr_simulate_denovos.model.all_mutations.txt\"\n",
    "    data = pd.read_csv(fname, sep=\"\\t\",\n",
    "                  names=[\"chrom\",\"pos\",\"period\",\"prior\",\"famid\",\"sampid\",\n",
    "                        \"phenotype\",\"posterior\",\"newallele\",\"mutsize\"], usecols=range(10))\n",
    "    \n",
    "    #### Infer loci we should use - should see at least one mutation. others \n",
    "    # probably weren't meant to be included\n",
    "    useloci = data[data[\"posterior\"]>=thresh][[\"chrom\",\"pos\"]].drop_duplicates().copy()\n",
    "\n",
    "    print(\"Found %s loci\"%useloci.shape[0])\n",
    "    assert useloci.shape[0] == trs_per_fam\n",
    "    useloci = pd.merge(useloci, gref, on=[\"chrom\",\"pos\"])\n",
    "    print(\"Found %s loci after merge with gref\"%useloci.shape[0])\n",
    "    data = pd.merge(data, useloci, on=[\"chrom\",\"pos\"])\n",
    "    \n",
    "    ##### Coverage effects #####\n",
    "    covdata = data[data[\"famid\"].apply(lambda x: \"F\" in x)]\n",
    "    covdata[\"coverage\"] = covdata[\"famid\"].apply(lambda x: covfams[x])\n",
    "\n",
    "    proband_counts = []\n",
    "    healthy_counts = []\n",
    "\n",
    "    for c in covs:\n",
    "        x_proband = covdata[(covdata[\"coverage\"]==c) & (covdata[\"sampid\"]==\"ProbandChild\")]\n",
    "        x_healthy = covdata[(covdata[\"coverage\"]==c) & (covdata[\"sampid\"]==\"HealthyChild\")]\n",
    "    \n",
    "        # For proband\n",
    "        num_proband_mut = x_proband[(x_proband[\"posterior\"]>thresh)].shape[0]\n",
    "        proband_counts.append([num_proband_mut, x_proband.shape[0]-num_proband_mut, useloci.shape[0]*2-x_proband.shape[0]])\n",
    "    \n",
    "        num_healthy_mut = x_healthy[(x_healthy[\"posterior\"]>thresh)].shape[0]\n",
    "        healthy_counts.append([num_healthy_mut, x_healthy.shape[0]-num_healthy_mut, useloci.shape[0]*2-x_healthy.shape[0]])\n",
    "\n",
    "    # Gray=nocall, red=mutation called, black=no mutation called\n",
    "    MutBarPlot(proband_counts, [\"%sx\"%item for item in covs], fname=\"%s-proband-bycov.pdf\"%method)\n",
    "    MutBarPlot(healthy_counts, [\"%sx\"%item for item in covs], fname=\"%s-healthy-bycov.pdf\"%method)\n",
    "    \n",
    "    \n",
    "    ##### Mutation size effects #####\n",
    "    sizedata = data[data[\"famid\"].apply(lambda x: \"Q\" in x)]\n",
    "    sizedata[\"truesize\"] = sizedata[\"famid\"].apply(lambda x: sizefams[x])\n",
    "\n",
    "    proband_counts = []\n",
    "\n",
    "    thresh = 0.5\n",
    "\n",
    "    sizes = sizes.copy()\n",
    "    sizes.append(0)\n",
    "    sizes.sort()\n",
    "    for s in sizes:\n",
    "        numtrs = useloci[useloci[\"reflen\"]>=-1*s].shape[0]\n",
    "        if s == 0:\n",
    "            x_proband = sizedata[(sizedata[\"sampid\"]==\"HealthyChild\") & (sizedata[\"famid\"]==\"Q1\")] # chose a random family, healthychildren have no mutaiton, so size 0\n",
    "        else:\n",
    "            x_proband = sizedata[(sizedata[\"truesize\"]==s) & (sizedata[\"sampid\"]==\"ProbandChild\")]\n",
    "        \n",
    "        num_proband_mut = x_proband[(x_proband[\"posterior\"]>thresh)].shape[0]\n",
    "        proband_counts.append([num_proband_mut, x_proband.shape[0]-num_proband_mut, numtrs-x_proband.shape[0]])\n",
    "    \n",
    "    MutBarPlot(proband_counts, sizes, fname=\"%s-bysize-proband.pdf\"%method)\n",
    "    \n",
    "    ##### Mutation size compare simulated vs. inferred #####\n",
    "    fig = plt.figure()\n",
    "    ax = fig.add_subplot(111)\n",
    "\n",
    "    sizecounts = sizedata[(sizedata[\"sampid\"]==\"ProbandChild\") & (sizedata[\"posterior\"]>thresh)].groupby([\"truesize\",\"mutsize\"], as_index=False).agg({\"posterior\": len})\n",
    "    ax.scatter(sizecounts[\"truesize\"], sizecounts[\"mutsize\"], s=sizecounts[\"posterior\"], edgecolor=\"black\", color=\"white\")\n",
    "    ax.plot([-10,10],[-10,10], color=\"black\", linewidth=0.5)\n",
    "    ax.set_xlabel(\"True mutation size\")\n",
    "    ax.set_ylabel(\"Inferred mutation size\")\n",
    "    fig.savefig(\"%s-sizebubles.pdf\"%method)\n",
    "    \n",
    "def PlotModelVsNaive(gref):\n",
    "    naive = pd.read_csv(\"monstr_simulate_denovos.naive.all_mutations.txt\", sep=\"\\t\",\n",
    "                  names=[\"chrom\",\"pos\",\"period\",\"prior\",\"famid\",\"sampid\",\n",
    "                        \"phenotype\",\"posterior\",\"newallele\",\"mutsize\"], usecols=range(10))\n",
    "    model = pd.read_csv(\"monstr_simulate_denovos.model.all_mutations.txt\", sep=\"\\t\",\n",
    "                  names=[\"chrom\",\"pos\",\"period\",\"prior\",\"famid\",\"sampid\",\n",
    "                        \"phenotype\",\"posterior\",\"newallele\",\"mutsize\"], usecols=range(10))\n",
    "\n",
    "    useloci = naive[naive[\"posterior\"]>=1][[\"chrom\",\"pos\"]].drop_duplicates().copy()\n",
    "    useloci = pd.merge(useloci, gref, on=[\"chrom\",\"pos\"])\n",
    "\n",
    "    # Choose only simulated loci\n",
    "    naive = pd.merge(naive, useloci, on=[\"chrom\",\"pos\"])\n",
    "    model = pd.merge(model, useloci, on=[\"chrom\",\"pos\"])\n",
    "    \n",
    "    # Choose all the \"Q\" data or \"F\" data\n",
    "    naive = naive[naive[\"famid\"].apply(lambda x: \"F\" in x)]\n",
    "    model = model[model[\"famid\"].apply(lambda x: \"F\" in x)]\n",
    "    numfams = len(set(naive[\"famid\"]))\n",
    "    \n",
    "    # Get counts\n",
    "    proband_counts = []\n",
    "    healthy_counts = []\n",
    "    \n",
    "    posts = [-1, 0.1, 0.5, 0.8, 0.9]\n",
    "    for thresh in posts:\n",
    "        if thresh == -1:\n",
    "            x_proband = naive[(naive[\"sampid\"]==\"ProbandChild\")]\n",
    "            x_healthy = naive[(naive[\"sampid\"]==\"HealthyChild\")]\n",
    "            num_healthy_mut = x_healthy[(x_healthy[\"posterior\"]>=1)].shape[0]\n",
    "            num_proband_mut = x_proband[(x_proband[\"posterior\"]>=1)].shape[0]\n",
    "        else:\n",
    "            x_proband = model[(model[\"sampid\"]==\"ProbandChild\")]\n",
    "            x_healthy = model[(model[\"sampid\"]==\"HealthyChild\")]\n",
    "            num_healthy_mut = x_healthy[(x_healthy[\"posterior\"]>=thresh)].shape[0]\n",
    "            num_proband_mut = x_proband[(x_proband[\"posterior\"]>=thresh)].shape[0]\n",
    "            \n",
    "        proband_counts.append([num_proband_mut, x_proband.shape[0]-num_proband_mut, useloci.shape[0]*numfams-x_proband.shape[0]])\n",
    "        healthy_counts.append([num_healthy_mut, x_healthy.shape[0]-num_healthy_mut, useloci.shape[0]*numfams-x_healthy.shape[0]])\n",
    "\n",
    "    posts[0] = \"Naive\"\n",
    "    MutBarPlot(proband_counts, posts, fname=\"%s-bypost-proband.pdf\"%method)\n",
    "    MutBarPlot(healthy_counts, posts, fname=\"%s-bypost-healthy.pdf\"%method)"
   ]
  },
  {
   "cell_type": "code",
   "execution_count": 142,
   "metadata": {},
   "outputs": [
    {
     "data": {
      "image/png": "[encoded data removed]",
      "text/plain": [
       "<Figure size 432x216 with 1 Axes>"
      ]
     },
     "metadata": {
      "needs_background": "light"
     },
     "output_type": "display_data"
    },
    {
     "data": {
      "image/png": "[encoded data removed]",
      "text/plain": [
       "<Figure size 432x216 with 1 Axes>"
      ]
     },
     "metadata": {
      "needs_background": "light"
     },
     "output_type": "display_data"
    }
   ],
   "source": [
    "PlotModelVsNaive(gref)"
   ]
  },
  {
   "cell_type": "code",
   "execution_count": 135,
   "metadata": {},
   "outputs": [
    {
     "name": "stdout",
     "output_type": "stream",
     "text": [
      "Found 10 loci\n",
      "Found 9 loci after merge with gref\n"
     ]
    },
    {
     "name": "stderr",
     "output_type": "stream",
     "text": [
      "<ipython-input-133-3b1afd27ff47>:40: SettingWithCopyWarning: \n",
      "A value is trying to be set on a copy of a slice from a DataFrame.\n",
      "Try using .loc[row_indexer,col_indexer] = value instead\n",
      "\n",
      "See the caveats in the documentation: https://pandas.pydata.org/pandas-docs/stable/user_guide/indexing.html#returning-a-view-versus-a-copy\n",
      "  covdata[\"coverage\"] = covdata[\"famid\"].apply(lambda x: covfams[x])\n",
      "<ipython-input-133-3b1afd27ff47>:63: SettingWithCopyWarning: \n",
      "A value is trying to be set on a copy of a slice from a DataFrame.\n",
      "Try using .loc[row_indexer,col_indexer] = value instead\n",
      "\n",
      "See the caveats in the documentation: https://pandas.pydata.org/pandas-docs/stable/user_guide/indexing.html#returning-a-view-versus-a-copy\n",
      "  sizedata[\"truesize\"] = sizedata[\"famid\"].apply(lambda x: sizefams[x])\n"
     ]
    },
    {
     "data": {
      "image/png": "[encoded data removed]",
      "text/plain": [
       "<Figure size 432x216 with 1 Axes>"
      ]
     },
     "metadata": {
      "needs_background": "light"
     },
     "output_type": "display_data"
    },
    {
     "data": {
      "image/png": "[encoded data removed]",
      "text/plain": [
       "<Figure size 432x216 with 1 Axes>"
      ]
     },
     "metadata": {
      "needs_background": "light"
     },
     "output_type": "display_data"
    },
    {
     "data": {
      "image/png": "[encoded data removed]",
      "text/plain": [
       "<Figure size 432x216 with 1 Axes>"
      ]
     },
     "metadata": {
      "needs_background": "light"
     },
     "output_type": "display_data"
    },
    {
     "data": {
      "image/png": "[encoded data removed]",
      "text/plain": [
       "<Figure size 432x288 with 1 Axes>"
      ]
     },
     "metadata": {
      "needs_background": "light"
     },
     "output_type": "display_data"
    }
   ],
   "source": [
    "PlotSimulations(\"naive\", covs, sizes, thresh, gref)"
   ]
  },
  {
   "cell_type": "code",
   "execution_count": 136,
   "metadata": {},
   "outputs": [
    {
     "name": "stdout",
     "output_type": "stream",
     "text": [
      "Found 10 loci\n",
      "Found 9 loci after merge with gref\n"
     ]
    },
    {
     "name": "stderr",
     "output_type": "stream",
     "text": [
      "<ipython-input-133-3b1afd27ff47>:40: SettingWithCopyWarning: \n",
      "A value is trying to be set on a copy of a slice from a DataFrame.\n",
      "Try using .loc[row_indexer,col_indexer] = value instead\n",
      "\n",
      "See the caveats in the documentation: https://pandas.pydata.org/pandas-docs/stable/user_guide/indexing.html#returning-a-view-versus-a-copy\n",
      "  covdata[\"coverage\"] = covdata[\"famid\"].apply(lambda x: covfams[x])\n",
      "<ipython-input-133-3b1afd27ff47>:63: SettingWithCopyWarning: \n",
      "A value is trying to be set on a copy of a slice from a DataFrame.\n",
      "Try using .loc[row_indexer,col_indexer] = value instead\n",
      "\n",
      "See the caveats in the documentation: https://pandas.pydata.org/pandas-docs/stable/user_guide/indexing.html#returning-a-view-versus-a-copy\n",
      "  sizedata[\"truesize\"] = sizedata[\"famid\"].apply(lambda x: sizefams[x])\n"
     ]
    },
    {
     "data": {
      "image/png": "[encoded data removed]",
      "text/plain": [
       "<Figure size 432x216 with 1 Axes>"
      ]
     },
     "metadata": {
      "needs_background": "light"
     },
     "output_type": "display_data"
    },
    {
     "data": {
      "image/png": "[encoded data removed]",
      "text/plain": [
       "<Figure size 432x216 with 1 Axes>"
      ]
     },
     "metadata": {
      "needs_background": "light"
     },
     "output_type": "display_data"
    },
    {
     "data": {
      "image/png": "[encoded data removed]",
      "text/plain": [
       "<Figure size 432x216 with 1 Axes>"
      ]
     },
     "metadata": {
      "needs_background": "light"
     },
     "output_type": "display_data"
    },
    {
     "data": {
      "image/png": "[encoded data removed]",
      "text/plain": [
       "<Figure size 432x288 with 1 Axes>"
      ]
     },
     "metadata": {
      "needs_background": "light"
     },
     "output_type": "display_data"
    }
   ],
   "source": [
    "PlotSimulations(\"model\", covs, sizes, 0.5, gref)"
   ]
  }
 ],
 "metadata": {
  "kernelspec": {
   "display_name": "Python 3",
   "language": "python",
   "name": "python3"
  },
  "language_info": {
   "codemirror_mode": {
    "name": "ipython",
    "version": 3
   },
   "file_extension": ".py",
   "mimetype": "text/x-python",
   "name": "python",
   "nbconvert_exporter": "python",
   "pygments_lexer": "ipython3",
   "version": "3.8.3"
  }
 },
 "nbformat": 4,
 "nbformat_minor": 4
}
