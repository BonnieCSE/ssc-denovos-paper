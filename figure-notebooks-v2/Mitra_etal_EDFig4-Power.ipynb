{
 "cells": [
  {
   "cell_type": "code",
   "execution_count": null,
   "metadata": {},
   "outputs": [],
   "source": [
    "%pylab inline"
   ]
  },
  {
   "cell_type": "markdown",
   "metadata": {},
   "source": [
    "This notebook contains code to reproduce the following from Mitra, et al.:\n",
    "\n",
    "* Extended Data Fig. 4: Power analysis"
   ]
  },
  {
   "cell_type": "code",
   "execution_count": null,
   "metadata": {},
   "outputs": [],
   "source": [
    "import os\n",
    "import scipy.stats\n",
    "OUTDIR=\"pdfs\"\n",
    "\n",
    "# Make editable in Illustrator\n",
    "import matplotlib\n",
    "matplotlib.rcParams['pdf.fonttype'] = 42\n",
    "matplotlib.rcParams['ps.fonttype'] = 42\n",
    "\n",
    "# Contingency tables will have: status(0/1) x mutation(0/1)\n",
    "# First, for different numbers of families, see how many mutations\n",
    "# we need to see in probands (with 0 in controls) for genome-wide significance\n",
    "\n",
    "NUMLOCI = 60000 # 900000 # approximate num genome-wide loci analyzed per family.\n",
    "# should we use total number, or only total num with any mutations?\n",
    "NUMMUTS = range(100)\n",
    "NVALS = [2500] # sample size\n",
    "power_vals = {} # N -> vals\n",
    "\n",
    "for N in NVALS:\n",
    "    # For each N, test different numbers of muts in proband\n",
    "    pvals = []\n",
    "    for aff_mut in NUMMUTS:\n",
    "        table = [[aff_mut, 0], [N-aff_mut, N]]\n",
    "        p = scipy.stats.fisher_exact(table)[1]\n",
    "        pvals.append(p)\n",
    "    power_vals[N] = pvals\n",
    "\n",
    "fig = plt.figure()\n",
    "ax = fig.add_subplot(111)\n",
    "N = 2500 # Just plot for one sample size, since all look the same\n",
    "ax.plot(NUMMUTS, [-1*np.log10(item) for item in power_vals[N]], label=\"Fisher p\", color=\"black\")\n",
    "ax.axhline(y=-1*np.log10(0.05/NUMLOCI), color=\"gray\", linestyle=\"dashed\", label=\"Bonferonni threhsold p=0.05\")\n",
    "ax.set_xlabel(\"# Mut. in probands\", size=15)\n",
    "ax.set_ylabel(\"-log10P\", size=15)\n",
    "ax.set_xticklabels(ax.get_xticks(), size=12)\n",
    "ax.set_yticklabels(ax.get_yticks(), size=12);\n",
    "ax.legend()\n",
    "fig.savefig(os.path.join(OUTDIR, \"SuppFigure_Power.pdf\"))"
   ]
  },
  {
   "cell_type": "code",
   "execution_count": null,
   "metadata": {},
   "outputs": [],
   "source": [
    "# Figure: Add new plot: X-axis sample size, y-axis power. Different line for rate in cases.\n",
    "\n",
    "SAMPSIZE = [1000, 5000, 10000, 20000, 30000, 40000, 50000, 60000, 70000, 80000, 90000, 100000, 250000, 500000, 750000, 1000000]\n",
    "PREV = [0.00001, 0.0001, 0.0005, 0.001, 0.003]\n",
    "niter = 100\n",
    "\n",
    "pthresh = 0.05/60000\n",
    "\n",
    "fig = plt.figure()\n",
    "ax = fig.add_subplot(111)\n",
    "\n",
    "for pr in PREV:\n",
    "    print(\"prev=%s\"%pr)\n",
    "    power = []\n",
    "    for ssize in SAMPSIZE:\n",
    "        pvals = []\n",
    "        for i in range(niter):\n",
    "            aff_mut = np.random.binomial(ssize, pr)\n",
    "            table = [[aff_mut, 0], [ssize-aff_mut, ssize]]\n",
    "            p = scipy.stats.fisher_exact(table)[1]\n",
    "            pvals.append(p)\n",
    "        power.append(np.mean([item<pthresh for item in pvals]))\n",
    "    ax.plot(SAMPSIZE, power, label=pr)\n",
    "plt.xscale(\"log\")\n",
    "ax.legend(loc=\"upper left\")\n",
    "fig.savefig(os.path.join(OUTDIR, \"SuppFigure_Power_SampleSize.pdf\"))"
   ]
  }
 ],
 "metadata": {
  "kernelspec": {
   "display_name": "Python 3",
   "language": "python",
   "name": "python3"
  },
  "language_info": {
   "codemirror_mode": {
    "name": "ipython",
    "version": 3
   },
   "file_extension": ".py",
   "mimetype": "text/x-python",
   "name": "python",
   "nbconvert_exporter": "python",
   "pygments_lexer": "ipython3",
   "version": "3.7.4"
  }
 },
 "nbformat": 4,
 "nbformat_minor": 4
}
