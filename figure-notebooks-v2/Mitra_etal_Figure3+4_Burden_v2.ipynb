{
 "cells": [
  {
   "cell_type": "code",
   "execution_count": null,
   "metadata": {},
   "outputs": [],
   "source": [
    "%pylab inline"
   ]
  },
  {
   "cell_type": "markdown",
   "metadata": {},
   "source": [
    "This notebook contains code to reproduce the following from Mitra, et al.:\n",
    "\n",
    "**Main Figures:** \n",
    "* Figure 3A: Number of mutations by category in siblings/probands\n",
    "* Figure 3B: Odds ratio by category\n",
    "* Figure 3C: Mutation size by category\n",
    "* Figure 4A: Odds ratio by AF bin\n",
    "* Figure 4B: Odds ratio by AF bin/locus selection\n",
    "* Figure 4C: Odds ratio by AF bin/allele selection\n",
    "\n",
    "**Extended Data Figures:** \n",
    "* Extended Data Figure 4a: Odds ratio by category, excluding homopolymers\n",
    "* Extended Data Figure 4b: Odds ratio by AF, excluding homopolymers\n",
    "* Extended Data Figure 7: Overlap with GWAS\n",
    "* Extended Data Figure 9: AF of de novo alleles\n",
    "\n",
    "**Supplementary Tables:** \n",
    "* Supplementary Table 5: excess by phase\n",
    "* Supplementary Table 6: coding mutations (auto+X)\n",
    "* Supplementary Table 7: deleterious mutations\n",
    "* Supplementary Table 8: expansions (auto+X)\n",
    "\n",
    "**Statistics:**\n",
    "* Mean num proband autosomal mutations\n",
    "* Mean num sibling autosomal mutations\n",
    "* Excess in probands vs. siblings (ttest rel, odds ratio)\n",
    "* Excess in probands vs. siblings after adjust for paternal age (ttest rel)\n",
    "* Excess in probands vs. siblings after adjust for paternal age + remove homopolymers(ttest rel)\n",
    "* Mutation excess in male/female chrX\n",
    "* Odds ratio by category"
   ]
  },
  {
   "cell_type": "code",
   "execution_count": 22,
   "metadata": {},
   "outputs": [],
   "source": [
    "# Input mutation results\n",
    "MUTFILE = \"/storage/ileena/ssc-gangstr-denovos/denovos_GW_priors_Jan20/combined/SSC_allphases_011720_denovos_GW_priors_Jan20.final_qc_mutations.tab\"\n",
    "NAIVEMUTFILE = \"/storage/ileena/ssc-gangstr-denovos/denovos_naive_Jan20/SSC_allphases_011720_denovos_naive_Jan20.final_qc_mutations.tab\"\n",
    "\n",
    "MUTFILEX = \"/storage/ileena/ssc-gangstr-denovos/denovos_GW_priors_Jan20/SSC_allphases_072820_denovos_model_X.denovos.final_qc_mutations.tab\"\n",
    "NAIVEMUTFILEX = \"/storage/ileena/ssc-gangstr-denovos/denovos_naive_Jan20/SSC_allphases_072820_denovos_naive_X.denovos.final_qc_mutations.tab\"\n",
    "\n",
    "# Make editable in Illustrator\n",
    "import matplotlib\n",
    "matplotlib.rcParams['pdf.fonttype'] = 42\n",
    "matplotlib.rcParams['ps.fonttype'] = 42\n",
    "\n",
    "# Imports\n",
    "import matplotlib.pyplot as plt\n",
    "import numpy as np\n",
    "import os\n",
    "import pandas as pd\n",
    "import scipy.stats\n",
    "import statsmodels.api as sm\n",
    "\n",
    "# Color keys\n",
    "colors = ['gray','red','gold','blue','green','purple','brown','salmon','magenta','cyan','darkblue']\n",
    "\n",
    "# Other data paths\n",
    "ANNOTFILE = \"/storage/mgymrek/ssc-denovos/annotations/hg38_gangstr_MasterAnnotation-rmdup.bed\"\n",
    "AFREQFILE = \"/storage/mgymrek/ssc-denovos/allele-freqs-revision/SSC_merged_allele_counts.tab\"\n",
    "HETFILE = \"/storage/mgymrek/ssc-denovos/allele-freqs-revision/SSC_merged_het.tab\"\n",
    "AGEFILE = \"/storage/ileena/denovos4/metadata/ssc_4phases_ages.csv\"\n",
    "SFARIFILE = \"/storage/mgymrek/ssc-denovos/annotations/SFARI-Gene_genes_08-29-2019release_09-11-2019export.csv\"\n",
    "JACKGENES = \"/storage/mgymrek/ssc-denovos/annotations/jack_102genes.txt\"\n",
    "CONSTRAINTFILE=\"/storage/mgymrek/ssc-denovos/mutea/MUTEA_Constraint_hg38_GangSTR.bed\"\n",
    "\n",
    "# Output path info\n",
    "OUTDIR = \"pdfs/\""
   ]
  },
  {
   "cell_type": "code",
   "execution_count": 24,
   "metadata": {},
   "outputs": [],
   "source": [
    "# Load expansions\n",
    "ndata = pd.read_csv(NAIVEMUTFILE, sep=\"\\t\")\n",
    "ndata = ndata[(ndata[\"posterior\"]==-1) & (ndata[\"mutsize\"]>=5)] # moderately big expansion events\n",
    "\n",
    "# Filter ones that occur too many times\n",
    "expcounts = ndata.groupby([\"chrom\",\"pos\"], as_index=False).agg({\"child\": len})\n",
    "ndata = pd.merge(ndata, expcounts[expcounts[\"child\"]<=3][[\"chrom\",\"pos\"]], on=[\"chrom\",\"pos\"])\n",
    "\n",
    "# Load main mutations data\n",
    "alldata = pd.read_csv(MUTFILE, sep=\"\\t\")\n",
    "usefams = set(alldata[\"family\"])\n",
    "\n",
    "# Concatenate expansions\n",
    "ndata = ndata[ndata.family.isin(usefams)]\n",
    "alldata = pd.concat([alldata, ndata])\n",
    "\n",
    "# Load chrX\n",
    "alldata_x = pd.read_csv(MUTFILEX, sep=\"\\t\")\n",
    "alldata_x = alldata_x[alldata_x.family.isin(usefams)]\n",
    "ndata_x = pd.read_csv(NAIVEMUTFILEX, sep=\"\\t\")\n",
    "ndata_x = ndata_x[(ndata_x[\"posterior\"]==-1) & (ndata_x[\"mutsize\"]>=5)] # moderately big expansion events\n",
    "expcounts = ndata_x.groupby([\"chrom\",\"pos\"], as_index=False).agg({\"child\": len})\n",
    "ndata_x = pd.merge(ndata_x, expcounts[expcounts[\"child\"]<=3][[\"chrom\",\"pos\"]], on=[\"chrom\",\"pos\"])\n",
    "ndata_x = ndata_x[ndata_x.family.isin(usefams)]\n",
    "alldata_x = pd.concat([alldata_x, ndata_x]).drop_duplicates()\n",
    "\n",
    "# Manually remove problematic families. \n",
    "# 14151 proband had 130 mutations\n",
    "# other families have <20 in both proband and sibling\n",
    "rmfams = [14151, 12434, 12281, 13673, 13351, 13355, 13143]\n",
    "alldata = alldata[~alldata.family.isin(rmfams)]\n",
    "alldata_x = alldata_x[~alldata_x.family.isin(rmfams)]\n",
    "\n",
    "# Load annotation info\n",
    "annot = pd.read_csv(ANNOTFILE, sep=\"\\t\")\n",
    "\n",
    "# Set up fields\n",
    "def GetChrom(x):\n",
    "    if \"chr\" in str(x): return int(x[3:])\n",
    "    else: return int(x)\n",
    "alldata[\"chrom\"] = alldata[\"chrom\"].apply(GetChrom)\n",
    "annot = annot[annot[\"chrom\"].apply(lambda x: x not in [\"X\",\"chrX\",\"Y\",\"chrY\"])]\n",
    "annot[\"chrom\"] = annot[\"chrom\"].apply(GetChrom)\n",
    "annot[\"pos\"] = annot[\"start\"]\n",
    "\n",
    "# Merge\n",
    "adata = pd.merge(alldata, annot, on=[\"chrom\",\"pos\"])\n",
    "\n",
    "# Get age info\n",
    "ages = pd.read_csv(AGEFILE)\n",
    "ages[\"family\"] = ages[\"fam_id\"]\n",
    "ages[\"child\"] = ages[\"sample_id\"]\n",
    "ages[\"phenotype\"] = ages[\"ssc_id\"].apply(lambda x: [1,2][\"p1\" in x])\n",
    "ages = ages[~np.isnan(ages[\"father_age_birth\"])]\n",
    "\n",
    "alldata_x = pd.merge(alldata_x, ages[[\"child\",\"sex\"]], how=\"left\")"
   ]
  },
  {
   "cell_type": "code",
   "execution_count": 3,
   "metadata": {},
   "outputs": [
    {
     "name": "stderr",
     "output_type": "stream",
     "text": [
      "/usr/local/lib/python3.6/site-packages/ipykernel_launcher.py:12: FutureWarning: \n",
      ".ix is deprecated. Please use\n",
      ".loc for label based indexing or\n",
      ".iloc for positional indexing\n",
      "\n",
      "See the documentation here:\n",
      "http://pandas.pydata.org/pandas-docs/stable/user_guide/indexing.html#ix-indexer-is-deprecated\n",
      "  if sys.path[0] == '':\n",
      "/usr/local/lib/python3.6/site-packages/ipykernel_launcher.py:13: FutureWarning: \n",
      ".ix is deprecated. Please use\n",
      ".loc for label based indexing or\n",
      ".iloc for positional indexing\n",
      "\n",
      "See the documentation here:\n",
      "http://pandas.pydata.org/pandas-docs/stable/user_guide/indexing.html#ix-indexer-is-deprecated\n",
      "  del sys.path[0]\n"
     ]
    }
   ],
   "source": [
    "# Get Allele freq info\n",
    "het = pd.read_csv(HETFILE, sep=\"\\t\")\n",
    "het[\"chrom\"] = het[\"chrom\"].apply(GetChrom)\n",
    "\n",
    "afreq = pd.read_csv(AFREQFILE, sep=\"\\t\")\n",
    "afreq.columns = [\"chrom\",\"pos\",\"newallele\",\"count\"]\n",
    "afreq[\"chrom\"] = afreq[\"chrom\"].apply(GetChrom)\n",
    "afreq = pd.merge(afreq, het[[\"chrom\",\"pos\",\"total\"]], on=[\"chrom\",\"pos\"])\n",
    "afreq[\"freq\"] = afreq.apply(lambda x: float(x[\"count\"])/x[\"total\"], 1)\n",
    "\n",
    "fdata = pd.merge(adata, afreq, on=[\"chrom\",\"pos\",\"newallele\"], how=\"left\")\n",
    "fdata.ix[np.isnan(fdata[\"freq\"]),\"freq\"] = 0\n",
    "fdata.ix[np.isnan(fdata[\"count\"]),\"count\"] = 0\n",
    "fdata = fdata.drop(\"total\", 1)\n",
    "fdata = pd.merge(fdata, het[[\"chrom\",\"pos\",\"het\",\"total\"]], on=[\"chrom\",\"pos\"])\n",
    "\n",
    "finaldata = pd.merge(fdata, ages[[\"family\",\"child\",\"sex\",\"father_age_birth_years\"]], on=[\"family\",\"child\"], how=\"left\")"
   ]
  },
  {
   "cell_type": "code",
   "execution_count": 71,
   "metadata": {},
   "outputs": [],
   "source": [
    "AFF_COLOR = \"red\"\n",
    "UNAFF_COLOR = \"blue\"\n",
    "\n",
    "def GetCounts(df, pt, families, sex=None):\n",
    "    famcounts = {}\n",
    "    counts = df[df[\"phenotype\"]==pt]\n",
    "    if sex is not None:\n",
    "        counts = counts[counts[\"sex\"]==sex]\n",
    "    for i in range(counts.shape[0]):\n",
    "        fam = counts[\"family\"].values[i]\n",
    "        count = counts[\"nummut\"].values[i]\n",
    "        famcounts[fam] = count\n",
    "    mutcounts = [famcounts.get(family, 0) for family in families]\n",
    "    return mutcounts\n",
    "\n",
    "def TestBurden(usedata):\n",
    "    # Get counts\n",
    "    families = set(usedata[\"family\"])\n",
    "    child_counts = usedata.groupby([\"child\",\"phenotype\",\"family\",\"father_age_birth_years\"], as_index=False).agg({\"posterior\": len})\n",
    "    child_counts.columns = [\"child\",\"phenotype\",\"family\",\"father_age_birth_years\",\"nummut\"]\n",
    "    aff_counts = GetCounts(child_counts, 2, families)\n",
    "    unaff_counts = GetCounts(child_counts, 1, families)\n",
    "    \n",
    "    # Overall\n",
    "    print(\"#### No adjustment ####\")\n",
    "    print(\"Unaff mean=%s\"%np.mean(unaff_counts))\n",
    "    print(\"Aff mean=%s\"%np.mean(aff_counts))\n",
    "    print(\"Mean diff=%s\"%(np.mean(aff_counts)-np.mean(unaff_counts)))\n",
    "    print(scipy.stats.ttest_rel(unaff_counts, aff_counts))\n",
    "    \n",
    "    # Adjust paternal age\n",
    "    print(\"#### Correct for paternal age ####\")\n",
    "    unaff_counts = child_counts[child_counts[\"phenotype\"]==1]\n",
    "    X = sm.add_constant(np.array(unaff_counts[[\"father_age_birth_years\"]]))\n",
    "    Y = np.array(unaff_counts[\"nummut\"])\n",
    "    model = sm.OLS(Y, X).fit()\n",
    "\n",
    "    # Predict and get residuals for all\n",
    "    child_counts[\"pred_nummut\"] = model.predict(sm.add_constant(np.array(child_counts[[\"father_age_birth_years\"]])))\n",
    "    child_counts[\"resid_nummut\"] = child_counts[\"nummut\"]-child_counts[\"pred_nummut\"]\n",
    "\n",
    "    # Compute p-val\n",
    "    print(scipy.stats.ttest_rel(child_counts[child_counts[\"phenotype\"]==1].sort_values(\"family\")[\"resid_nummut\"],\n",
    "            child_counts[child_counts[\"phenotype\"]==2].sort_values(\"family\")[\"resid_nummut\"]))\n",
    "\n",
    "def PlotMutationSize(fdata_list, fdata_list_labels, figprefix=None):\n",
    "    sizes_means_list_unaff = []\n",
    "    sizes_stderrs_list_unaff = []\n",
    "    sizes_means_list_aff = []\n",
    "    sizes_stderrs_list_aff = []\n",
    "    female_sizes_means_list_unaff = []\n",
    "    female_sizes_means_list_aff = []\n",
    "    male_sizes_means_list_unaff = []\n",
    "    male_sizes_means_list_aff = []\n",
    "\n",
    "    for i in range(len(fdata_list)):\n",
    "        usedata = fdata_list[i]\n",
    "        flabel = fdata_list_labels[i]\n",
    "        print(\"###### %s ######\"%flabel)\n",
    "        # Mutation size\n",
    "        usedata[\"absmutsize\"] = usedata[\"mutsize\"].apply(abs)\n",
    "        sizes_unaff = usedata[usedata[\"phenotype\"]==1][\"absmutsize\"]\n",
    "        sizes_aff = usedata[usedata[\"phenotype\"]==2][\"absmutsize\"]\n",
    "        print(scipy.stats.mannwhitneyu(sizes_unaff, sizes_aff,  alternative=\"less\"))\n",
    "        print(\"Unaff n=%s mean=%s\"%(len(sizes_unaff), np.mean(sizes_unaff)))\n",
    "        print(\"Aff n=%s mean=%s\"%(len(sizes_aff), np.mean(sizes_aff)))\n",
    "\n",
    "        sizes_means_list_unaff.append(np.mean(sizes_unaff))\n",
    "        sizes_stderrs_list_unaff.append(np.sqrt(np.var(sizes_unaff)/len(sizes_unaff)))\n",
    "        sizes_means_list_aff.append(np.mean(sizes_aff))\n",
    "        sizes_stderrs_list_aff.append(np.sqrt(np.var(sizes_aff)/len(sizes_aff)))\n",
    "        \n",
    "        female_sizes_means_list_unaff.append(np.mean(usedata[(usedata[\"phenotype\"]==1)&(usedata[\"sex\"]==\"female\")][\"absmutsize\"]))\n",
    "        female_sizes_means_list_aff.append(np.mean(usedata[(usedata[\"phenotype\"]==2)&(usedata[\"sex\"]==\"female\")][\"absmutsize\"]))\n",
    "        male_sizes_means_list_unaff.append(np.mean(usedata[(usedata[\"phenotype\"]==1)&(usedata[\"sex\"]==\"male\")][\"absmutsize\"]))\n",
    "        male_sizes_means_list_aff.append(np.mean(usedata[(usedata[\"phenotype\"]==2)&(usedata[\"sex\"]==\"male\")][\"absmutsize\"]))\n",
    "        \n",
    "    fig = plt.figure()\n",
    "    fig.set_size_inches((5+len(fdata_list), 5))\n",
    "    ax = fig.add_subplot(111)\n",
    "    \n",
    "    # Plot overall\n",
    "    W = 0.2\n",
    "    xvals = range(len(fdata_list))\n",
    "    ax.bar(xvals, sizes_means_list_unaff, yerr=1.96*np.array(sizes_stderrs_list_unaff), color=UNAFF_COLOR, width=W)\n",
    "    ax.bar([item+W for item in xvals], sizes_means_list_aff, yerr=1.96*np.array(sizes_stderrs_list_aff), color=AFF_COLOR, width=W)\n",
    "    \n",
    "    # Plot by sex\n",
    "    ptsize = 100\n",
    "    ax.scatter([item-W for item in xvals], male_sizes_means_list_unaff, marker=\"s\", color=UNAFF_COLOR, s=ptsize, edgecolors=\"black\")\n",
    "    ax.scatter([item-W for item in xvals], female_sizes_means_list_unaff, marker=\"o\", color=UNAFF_COLOR, s=ptsize, edgecolors=\"black\")\n",
    "    ax.scatter([item+2*W for item in xvals], male_sizes_means_list_aff, marker=\"s\", color=AFF_COLOR, s=ptsize, edgecolors=\"black\")\n",
    "    ax.scatter([item+2*W for item in xvals], female_sizes_means_list_aff, marker=\"o\", color=AFF_COLOR, s=ptsize, edgecolors=\"black\")\n",
    "\n",
    "    ax.set_ylabel(\"Mutation size\", size=15)\n",
    "    ax.spines['right'].set_visible(False)\n",
    "    ax.spines['top'].set_visible(False)\n",
    "    ax.yaxis.set_ticks_position('left')\n",
    "    ax.xaxis.set_ticks_position('bottom');\n",
    "    ax.set_xticks([item+W/2 for item in xvals])\n",
    "    ax.set_xticklabels(fdata_list_labels, rotation=90)\n",
    "    if figprefix is not None:\n",
    "        fig.savefig(os.path.join(OUTDIR, figprefix+\"-mutsize.pdf\"))\n",
    "\n",
    "def PlotMutationCounts(full_fdata, fdata_list, fdata_list_labels, figprefix=None):\n",
    "    fdata = full_fdata\n",
    "    \n",
    "    # Get list of families to use\n",
    "    families = set(fdata[\"family\"])\n",
    "    aff_female_families = set(fdata[(fdata[\"phenotype\"]==2) & (fdata[\"sex\"]==\"female\")][\"family\"])\n",
    "    unaff_female_families = set(fdata[(fdata[\"phenotype\"]==1) & (fdata[\"sex\"]==\"female\")][\"family\"])\n",
    "    aff_male_families = set(fdata[(fdata[\"phenotype\"]==2) & (fdata[\"sex\"]==\"male\")][\"family\"])\n",
    "    unaff_male_families = set(fdata[(fdata[\"phenotype\"]==1) & (fdata[\"sex\"]==\"male\")][\"family\"])\n",
    "\n",
    "    W = 0.2\n",
    "    ptsize = 100\n",
    "\n",
    "    # each on a different axis\n",
    "    for i in range(len(fdata_list)):\n",
    "        usedata = fdata_list[i]\n",
    "        flabel = fdata_list_labels[i]\n",
    "        print(\"### Comparing counts for %s #####\"%flabel)\n",
    "        child_counts = usedata.groupby([\"child\",\"phenotype\",\"family\",\"father_age_birth_years\"], as_index=False).agg({\"posterior\": len})\n",
    "        child_counts.columns = [\"child\",\"phenotype\",\"family\",\"father_age_birth_years\",\"nummut\"]\n",
    "        child_counts_by_sex = usedata.groupby([\"child\",\"phenotype\",\"family\",\"sex\"], as_index=False).agg({\"posterior\": len})\n",
    "        child_counts_by_sex.columns = [\"child\",\"phenotype\",\"family\",\"sex\",\"nummut\"]\n",
    "\n",
    "        aff_counts = GetCounts(child_counts, 2, families)\n",
    "        unaff_counts = GetCounts(child_counts, 1, families)\n",
    "        aff_male_counts = GetCounts(child_counts_by_sex, 2, aff_male_families, sex=\"male\")\n",
    "        aff_female_counts = GetCounts(child_counts_by_sex, 2, aff_female_families, sex=\"female\")\n",
    "        unaff_male_counts = GetCounts(child_counts_by_sex, 1, unaff_male_families, sex=\"male\")\n",
    "        unaff_female_counts = GetCounts(child_counts_by_sex, 1, unaff_female_families, sex=\"female\")\n",
    "\n",
    "        print(scipy.stats.ttest_rel(unaff_counts, aff_counts))\n",
    "\n",
    "        fig = plt.figure()\n",
    "        fig.set_size_inches((4, 6))\n",
    "        ax = fig.add_subplot(111)\n",
    "        ax.bar([0], [np.mean(unaff_counts)], yerr=[1.96*np.sqrt(np.var(unaff_counts)/len(families))], color=UNAFF_COLOR, width=W)\n",
    "        ax.bar([W], [np.mean(aff_counts)], yerr=[1.96*np.sqrt(np.var(aff_counts)/len(families))], color=AFF_COLOR, width=W)\n",
    "\n",
    "        ax.scatter([-1*W], [np.mean(unaff_male_counts)], marker=\"s\", color=UNAFF_COLOR, s=ptsize, edgecolors=\"black\")\n",
    "        ax.scatter([-1*W], [np.mean(unaff_female_counts)], marker=\"o\", color=UNAFF_COLOR, s=ptsize, edgecolors=\"black\")\n",
    "        ax.scatter([2*W], [np.mean(aff_male_counts)], marker=\"s\", color=AFF_COLOR, s=ptsize, edgecolors=\"black\")\n",
    "        ax.scatter([2*W], [np.mean(aff_female_counts)], marker=\"o\", color=AFF_COLOR, s=ptsize, edgecolors=\"black\")\n",
    "        ax.set_xticks([W/2])\n",
    "        ax.set_ylabel(\"# mutations/child\", size=15)\n",
    "        ax.spines['right'].set_visible(False)\n",
    "        ax.spines['top'].set_visible(False)\n",
    "        ax.yaxis.set_ticks_position('left')\n",
    "        ax.xaxis.set_ticks_position('bottom');\n",
    "    \n",
    "        ax.set_title(fdata_list_labels[i])\n",
    "        if figprefix is not None:\n",
    "            fig.savefig(os.path.join(OUTDIR, figprefix+\"-burden-%s.pdf\"%fdata_list_labels[i]))\n",
    "\n",
    "def TestSexBurdenMW(fdata, usedata, sex):\n",
    "    aff_families = set(fdata[(fdata[\"phenotype\"]==2) & (fdata[\"sex\"]==sex)][\"family\"])\n",
    "    unaff_families = set(fdata[(fdata[\"phenotype\"]==1) & (fdata[\"sex\"]==sex)][\"family\"])\n",
    "\n",
    "    child_counts = usedata[usedata[\"sex\"]==sex].groupby([\"child\",\"phenotype\",\"family\"], as_index=False).agg({\"posterior\": len})\n",
    "    child_counts.columns = [\"child\",\"phenotype\",\"family\",\"nummut\"]\n",
    "    aff_counts = GetCounts(child_counts, 2, aff_families)\n",
    "    unaff_counts = GetCounts(child_counts, 1, unaff_families)\n",
    "    print(\"num aff children=%s\"%len(aff_counts))\n",
    "    print(\"num unaff children=%s\"%len(unaff_counts))\n",
    "    print(\"mean aff=%s\"%np.mean(aff_counts))\n",
    "    print(\"mean unaff=%s\"%np.mean(unaff_counts))\n",
    "    print(scipy.stats.mannwhitneyu(aff_counts, unaff_counts, alternative=\"two-sided\"))"
   ]
  },
  {
   "cell_type": "markdown",
   "metadata": {},
   "source": [
    "# Mutation counts/burden case vs. control"
   ]
  },
  {
   "cell_type": "code",
   "execution_count": 72,
   "metadata": {
    "scrolled": false
   },
   "outputs": [
    {
     "name": "stdout",
     "output_type": "stream",
     "text": [
      "Burden - overall\n",
      "#### No adjustment ####\n",
      "Unaff mean=53.05398618957941\n",
      "Aff mean=54.653483992467045\n",
      "Mean diff=1.5994978028876332\n",
      "Ttest_relResult(statistic=-4.923116524684414, pvalue=9.40181167618077e-07)\n",
      "#### Correct for paternal age ####\n",
      "Ttest_relResult(statistic=-4.414227680976025, pvalue=1.0819147959059083e-05)\n",
      "\n",
      "Burden - exclude homopolymers\n",
      "#### No adjustment ####\n",
      "Unaff mean=22.227871939736346\n",
      "Aff mean=22.858129315756436\n",
      "Mean diff=0.63025737602009\n",
      "Ttest_relResult(statistic=-3.509661644363018, pvalue=0.0004611708269079333)\n",
      "#### Correct for paternal age ####\n",
      "Ttest_relResult(statistic=-2.6948960562040325, pvalue=0.007115118770008193)\n",
      "\n",
      "Burden - by phase\n",
      "phase1\n",
      "#### No adjustment ####\n",
      "Unaff mean=51.885245901639344\n",
      "Aff mean=53.42827868852459\n",
      "Mean diff=1.5430327868852487\n",
      "Ttest_relResult(statistic=-2.234354143200923, pvalue=0.025912760574935533)\n",
      "#### Correct for paternal age ####\n",
      "Ttest_relResult(statistic=-1.8218538425210768, pvalue=0.06909040276235796)\n",
      "phase2\n",
      "#### No adjustment ####\n",
      "Unaff mean=53.1280276816609\n",
      "Aff mean=54.2560553633218\n",
      "Mean diff=1.128027681660896\n",
      "Ttest_relResult(statistic=-2.215556040726836, pvalue=0.027111511542208602)\n",
      "#### Correct for paternal age ####\n",
      "Ttest_relResult(statistic=-1.9803946210451961, pvalue=0.04813374270221612)\n",
      "phase3_1\n",
      "#### No adjustment ####\n",
      "Unaff mean=54.05707762557078\n",
      "Aff mean=55.91324200913242\n",
      "Mean diff=1.8561643835616408\n",
      "Ttest_relResult(statistic=-3.5370379172341995, pvalue=0.00044793116523674805)\n",
      "#### Correct for paternal age ####\n",
      "Ttest_relResult(statistic=-3.2636246191187612, pvalue=0.0011863371872101397)\n",
      "phase3_2\n",
      "#### No adjustment ####\n",
      "Unaff mean=54.04494382022472\n",
      "Aff mean=57.752808988764045\n",
      "Mean diff=3.7078651685393282\n",
      "Ttest_relResult(statistic=-2.712333394182275, pvalue=0.008035199012276608)\n",
      "#### Correct for paternal age ####\n",
      "Ttest_relResult(statistic=-2.7122273827262133, pvalue=0.00803756742111839)\n",
      "\n",
      "Burden - chrX male\n",
      "num aff children=1397\n",
      "num unaff children=762\n",
      "mean aff=0.39584824624194703\n",
      "mean unaff=0.4146981627296588\n",
      "MannwhitneyuResult(statistic=523550.5, pvalue=0.44411513713443473)\n",
      "\n",
      "Burden - chrX female\n",
      "num aff children=196\n",
      "num unaff children=831\n",
      "mean aff=1.8724489795918366\n",
      "mean unaff=1.8243080625752106\n",
      "MannwhitneyuResult(statistic=80174.5, pvalue=0.7278317859699475)\n"
     ]
    }
   ],
   "source": [
    "print(\"Burden - overall\")\n",
    "TestBurden(finaldata)\n",
    "\n",
    "print(\"\\nBurden - exclude homopolymers\")\n",
    "TestBurden(finaldata[finaldata[\"period_x\"]>1])\n",
    "\n",
    "print(\"\\nBurden - by phase\")\n",
    "for phase in [\"phase1\", \"phase2\", \"phase3_1\", \"phase3_2\"]:\n",
    "    print(phase)\n",
    "    TestBurden(finaldata[finaldata[\"phase\"]==phase])\n",
    "\n",
    "print(\"\\nBurden - chrX male\")\n",
    "TestSexBurdenMW(finaldata, alldata_x, sex=\"male\")\n",
    "\n",
    "print(\"\\nBurden - chrX female\")\n",
    "TestSexBurdenMW(finaldata, alldata_x, sex=\"female\")"
   ]
  },
  {
   "cell_type": "markdown",
   "metadata": {},
   "source": [
    "# Fig. 3A Mutation count"
   ]
  },
  {
   "cell_type": "code",
   "execution_count": 73,
   "metadata": {
    "scrolled": false
   },
   "outputs": [
    {
     "name": "stdout",
     "output_type": "stream",
     "text": [
      "### Comparing counts for all #####\n",
      "Ttest_relResult(statistic=-4.923116524684414, pvalue=9.40181167618077e-07)\n",
      "### Comparing counts for UTR5 #####\n",
      "Ttest_relResult(statistic=-0.1373182566010923, pvalue=0.8907966044208092)\n",
      "### Comparing counts for UTR3 #####\n",
      "Ttest_relResult(statistic=0.8236307913198686, pvalue=0.41027273983716805)\n",
      "### Comparing counts for FETALBRAINTSS #####\n",
      "Ttest_relResult(statistic=-3.2198213722631612, pvalue=0.001308571244057823)\n",
      "### Comparing counts for CODING #####\n",
      "Ttest_relResult(statistic=-1.4146579342811156, pvalue=0.15736436451294128)\n",
      "### Comparing counts for INTRON #####\n",
      "Ttest_relResult(statistic=-2.662786017239395, pvalue=0.007827745957981571)\n",
      "### Comparing counts for FETALBRAINENH #####\n",
      "Ttest_relResult(statistic=-0.6075461073585369, pvalue=0.5435752013100472)\n"
     ]
    },
    {
     "data": {
      "image/png": "[encoded data removed]",
      "text/plain": [
       "<Figure size 288x432 with 1 Axes>"
      ]
     },
     "metadata": {
      "needs_background": "light"
     },
     "output_type": "display_data"
    },
    {
     "data": {
      "image/png": "[encoded data removed]",
      "text/plain": [
       "<Figure size 288x432 with 1 Axes>"
      ]
     },
     "metadata": {
      "needs_background": "light"
     },
     "output_type": "display_data"
    },
    {
     "data": {
      "image/png": "[encoded data removed]",
      "text/plain": [
       "<Figure size 288x432 with 1 Axes>"
      ]
     },
     "metadata": {
      "needs_background": "light"
     },
     "output_type": "display_data"
    },
    {
     "data": {
      "image/png": "[encoded data removed]",
      "text/plain": [
       "<Figure size 288x432 with 1 Axes>"
      ]
     },
     "metadata": {
      "needs_background": "light"
     },
     "output_type": "display_data"
    },
    {
     "data": {
      "image/png": "[encoded data removed]",
      "text/plain": [
       "<Figure size 288x432 with 1 Axes>"
      ]
     },
     "metadata": {
      "needs_background": "light"
     },
     "output_type": "display_data"
    },
    {
     "data": {
      "image/png": "[encoded data removed]",
      "text/plain": [
       "<Figure size 288x432 with 1 Axes>"
      ]
     },
     "metadata": {
      "needs_background": "light"
     },
     "output_type": "display_data"
    },
    {
     "data": {
      "image/png": "[encoded data removed]",
      "text/plain": [
       "<Figure size 288x432 with 1 Axes>"
      ]
     },
     "metadata": {
      "needs_background": "light"
     },
     "output_type": "display_data"
    }
   ],
   "source": [
    "# Mutation count by category\n",
    "fdata_list_annotations = [finaldata]\n",
    "fdata_labels_list_annotations = [\"all\"]\n",
    "for col in ['FEATURE-UTR5','FEATURE-UTR3', 'FEATURE-FETALBRAINTSS', 'FEATURE-CODING', 'FEATURE-INTRON', 'FEATURE-FETALBRAINENH']:\n",
    "    fdata_list_annotations.append(finaldata[(finaldata[col]>0)])\n",
    "    fdata_labels_list_annotations.append(col.split(\"-\")[1])\n",
    "PlotMutationCounts(finaldata, fdata_list_annotations, fdata_labels_list_annotations, figprefix=\"Figure3\")"
   ]
  },
  {
   "cell_type": "markdown",
   "metadata": {},
   "source": [
    "# Fig. 3B Odds ratios"
   ]
  },
  {
   "cell_type": "code",
   "execution_count": 81,
   "metadata": {},
   "outputs": [
    {
     "name": "stdout",
     "output_type": "stream",
     "text": [
      "##### all #####\n",
      "OR - all: 1.03 (1.02-1.04)\n",
      "OR - male: 1.02 (1.01-1.03)\n",
      "OR - female: 1.04 (1.02-1.06)\n",
      "##### UTR5 #####\n",
      "OR - all: 1.02 (0.78-1.33)\n",
      "OR - male: 0.94 (0.69-1.34)\n",
      "OR - female: 1.12 (0.53-1.87)\n",
      "##### UTR3 #####\n",
      "OR - all: 0.96 (0.87-1.06)\n",
      "OR - male: 0.94 (0.83-1.06)\n",
      "OR - female: 1.13 (0.91-1.37)\n",
      "##### FETALBRAINTSS #####\n",
      "OR - all: 1.20 (1.07-1.35)\n",
      "OR - male: 1.15 (1.00-1.34)\n",
      "OR - female: 1.32 (1.02-1.65)\n",
      "##### CODING #####\n",
      "OR - all: 1.67 (0.84-3.82)\n",
      "OR - male: 1.85 (0.81-9.91)\n",
      "OR - female: 1.82 (0.07-5.95)\n",
      "##### INTRON #####\n",
      "OR - all: 1.05 (1.02-1.08)\n",
      "OR - male: 1.03 (0.99-1.07)\n",
      "OR - female: 1.04 (0.96-1.11)\n",
      "##### FETALBRAINENH #####\n",
      "OR - all: 1.01 (0.97-1.06)\n",
      "OR - male: 1.02 (0.97-1.07)\n",
      "OR - female: 1.00 (0.91-1.10)\n"
     ]
    }
   ],
   "source": [
    "def PlotOddsRatios(full_fdata, fdata_list, fdata_list_labels, figprefix=\"Figure3\"):\n",
    "    fdata = full_fdata\n",
    "    \n",
    "    # Get list of families to use\n",
    "    families = set(fdata[\"family\"])\n",
    "    aff_female_families = set(fdata[(fdata[\"phenotype\"]==2) & (fdata[\"sex\"]==\"female\")][\"family\"])\n",
    "    unaff_female_families = set(fdata[(fdata[\"phenotype\"]==1) & (fdata[\"sex\"]==\"female\")][\"family\"])\n",
    "    aff_male_families = set(fdata[(fdata[\"phenotype\"]==2) & (fdata[\"sex\"]==\"male\")][\"family\"])\n",
    "    unaff_male_families = set(fdata[(fdata[\"phenotype\"]==1) & (fdata[\"sex\"]==\"male\")][\"family\"])\n",
    "\n",
    "    # Keep track of the percentage of mutations that are cases/ctrls for each category\n",
    "    perc_mut_aff_all_list = []\n",
    "    perc_mut_aff_female_list = []\n",
    "    perc_mut_aff_male_list = []\n",
    "    total_mut_all_list = []\n",
    "    total_mut_female_list = []\n",
    "    total_mut_male_list = []\n",
    "\n",
    "    for i in range(len(fdata_list)):\n",
    "        usedata = fdata_list[i]\n",
    "        flabel = fdata_list_labels[i]\n",
    "        \n",
    "        # Get counts of unaff/aff mutations\n",
    "        child_counts = usedata.groupby([\"child\",\"phenotype\",\"family\",\"sex\"], as_index=False).agg({\"posterior\": len})\n",
    "        child_counts.columns = [\"child\",\"phenotype\",\"family\",\"sex\",\"nummut\"]\n",
    "        aff_counts = np.sum(child_counts[child_counts[\"phenotype\"]==2][\"nummut\"])\n",
    "        unaff_counts = np.sum(child_counts[child_counts[\"phenotype\"]==1][\"nummut\"])\n",
    "        aff_male_counts = np.sum(child_counts[(child_counts[\"phenotype\"]==2)&\n",
    "                                             (child_counts[\"sex\"]==\"male\")][\"nummut\"])\n",
    "        unaff_male_counts = np.sum(child_counts[(child_counts[\"phenotype\"]==1)&\n",
    "                                               (child_counts[\"sex\"]==\"male\")][\"nummut\"])\n",
    "        aff_female_counts = np.sum(child_counts[(child_counts[\"phenotype\"]==2)&\n",
    "                                             (child_counts[\"sex\"]==\"female\")][\"nummut\"])\n",
    "        unaff_female_counts = np.sum(child_counts[(child_counts[\"phenotype\"]==1)&\n",
    "                                               (child_counts[\"sex\"]==\"female\")][\"nummut\"])\n",
    "        # Update totals/percentages\n",
    "        total_mut_all_list.append(np.sum(aff_counts)+np.sum(unaff_counts))\n",
    "        perc_mut_aff_all_list.append(np.sum(aff_counts)/(np.sum(aff_counts)+np.sum(unaff_counts)))\n",
    "        total_mut_female_list.append(np.sum(aff_female_counts)+np.sum(unaff_female_counts))\n",
    "        perc_mut_aff_female_list.append(np.sum(aff_female_counts)/(np.sum(aff_female_counts)+np.sum(unaff_female_counts)))\n",
    "        total_mut_male_list.append(np.sum(aff_male_counts)+np.sum(unaff_male_counts))\n",
    "        perc_mut_aff_male_list.append(np.sum(aff_male_counts)/(np.sum(aff_male_counts)+np.sum(unaff_male_counts)))\n",
    "\n",
    "    ########### Odds ratio plot ############\n",
    "    # Need num_unnaf and num_aff for each category\n",
    "    num_unaff = len(families)\n",
    "    num_aff = len(families)\n",
    "    num_unaff_female = len(unaff_female_families)\n",
    "    num_aff_female = len(aff_female_families)\n",
    "    num_unaff_male = len(unaff_male_families)\n",
    "    num_aff_male = len(aff_male_families)\n",
    "    \n",
    "    # Compute odds ratios - n_u/n_a * (p/1-p), where p=% mutations in affecteds\n",
    "    OR_all = num_unaff*1.0/num_aff*np.array([item/(1-item) for item in perc_mut_aff_all_list])\n",
    "    OR_male = num_unaff_male*1.0/num_aff_male*np.array([item/(1-item) for item in perc_mut_aff_male_list])\n",
    "    OR_female = num_unaff_female*1.0/num_aff_female*np.array([item/(1-item) for item in perc_mut_aff_female_list])\n",
    "\n",
    "    # Compute stderrs on p total_mut_all_list, perc_mut_aff_all_list\n",
    "    perc_se_all = [np.sqrt(perc_mut_aff_all_list[i]*(1-perc_mut_aff_all_list[i])/total_mut_all_list[i]) for \\\n",
    "                 i in range(len(perc_mut_aff_all_list))]\n",
    "    perc_low_mut_aff_all_list = [perc_mut_aff_all_list[i]-perc_se_all[i]*1.96 for i in range(len(perc_se_all))]\n",
    "    perc_high_mut_aff_all_list = [perc_mut_aff_all_list[i]+perc_se_all[i]*1.96 for i in range(len(perc_se_all))]\n",
    "    OR_low_all = num_unaff*1.0/num_aff*np.array([item/(1-item) for item in perc_low_mut_aff_all_list])\n",
    "    OR_high_all = num_unaff*1.0/num_aff*np.array([item/(1-item) for item in perc_high_mut_aff_all_list])\n",
    "\n",
    "    # Male\n",
    "    perc_se_male = [np.sqrt(perc_mut_aff_male_list[i]*(1-perc_mut_aff_male_list[i])/total_mut_male_list[i]) for \\\n",
    "                 i in range(len(perc_mut_aff_male_list))]\n",
    "    perc_low_mut_aff_male_list = [perc_mut_aff_male_list[i]-perc_se_male[i]*1.96 for i in range(len(perc_se_male))]\n",
    "    perc_high_mut_aff_male_list = [perc_mut_aff_male_list[i]+perc_se_male[i]*1.96 for i in range(len(perc_se_male))]\n",
    "    OR_low_male = num_unaff_male*1.0/num_aff_male*np.array([item/(1-item) for item in perc_low_mut_aff_male_list])\n",
    "    OR_high_male = num_unaff_male*1.0/num_aff_male*np.array([item/(1-item) for item in perc_high_mut_aff_male_list])\n",
    "    # Female\n",
    "    perc_se_female = [np.sqrt(perc_mut_aff_female_list[i]*(1-perc_mut_aff_female_list[i])/total_mut_female_list[i]) for \\\n",
    "                 i in range(len(perc_mut_aff_female_list))]\n",
    "    perc_low_mut_aff_female_list = [perc_mut_aff_female_list[i]-perc_se_female[i]*1.96 for i in range(len(perc_se_female))]\n",
    "    perc_high_mut_aff_female_list = [perc_mut_aff_female_list[i]+perc_se_female[i]*1.96 for i in range(len(perc_se_female))]\n",
    "    OR_low_female = num_unaff_female*1.0/num_aff_female*np.array([item/(1-item) for item in perc_low_mut_aff_female_list])\n",
    "    OR_high_female = num_unaff_female*1.0/num_aff_female*np.array([item/(1-item) for item in perc_high_mut_aff_female_list])\n",
    "\n",
    "    for i in range(len(fdata_list)):\n",
    "        print(\"##### %s #####\"%(fdata_list_labels[i]))\n",
    "        print(\"OR - all: %.2f (%.2f-%.2f)\"%((OR_all[i]), (OR_low_all[i]), (OR_high_all[i])))\n",
    "        print(\"OR - male: %.2f (%.2f-%.2f)\"%((OR_male[i]), (OR_low_male[i]), (OR_high_male[i])))\n",
    "        print(\"OR - female: %.2f (%.2f-%.2f)\"%((OR_female[i]), (OR_low_female[i]), (OR_high_female[i])))\n",
    "\n",
    "PlotOddsRatios(finaldata, fdata_list_annotations, fdata_labels_list_annotations, figprefix=\"Figure3\")"
   ]
  },
  {
   "cell_type": "markdown",
   "metadata": {},
   "source": [
    "# Fig.  3C Mutation size"
   ]
  },
  {
   "cell_type": "code",
   "execution_count": 64,
   "metadata": {},
   "outputs": [
    {
     "name": "stdout",
     "output_type": "stream",
     "text": [
      "###### all ######\n",
      "MannwhitneyuResult(statistic=3659432165.0, pvalue=0.017489510058466225)\n",
      "Unaff n=84515 mean=2.434206945512631\n",
      "Aff n=87063 mean=2.465031069455452\n",
      "###### UTR5 ######\n",
      "MannwhitneyuResult(statistic=6213.5, pvalue=0.6531485293637433)\n",
      "Unaff n=109 mean=1.798165137614679\n",
      "Aff n=111 mean=1.8288288288288288\n",
      "###### UTR3 ######\n",
      "MannwhitneyuResult(statistic=357073.0, pvalue=0.6365612235360728)\n",
      "Unaff n=858 mean=2.2762237762237763\n",
      "Aff n=825 mean=2.4375757575757575\n",
      "###### FETALBRAINTSS ######\n",
      "MannwhitneyuResult(statistic=167012.5, pvalue=0.008134303155412448)\n",
      "Unaff n=548 mean=2.0364963503649633\n",
      "Aff n=658 mean=2.3677811550151975\n",
      "###### CODING ######\n",
      "MannwhitneyuResult(statistic=120.5, pvalue=0.5174439440836233)\n",
      "Unaff n=12 mean=2.0\n",
      "Aff n=20 mean=1.65\n",
      "###### INTRON ######\n",
      "MannwhitneyuResult(statistic=25059800.5, pvalue=0.49437898607216696)\n",
      "Unaff n=6912 mean=2.4500868055555554\n",
      "Aff n=7252 mean=2.433949255377827\n",
      "###### FETALBRAINENH ######\n",
      "MannwhitneyuResult(statistic=9527030.0, pvalue=0.03619921332305092)\n",
      "Unaff n=4380 mean=2.307077625570776\n",
      "Aff n=4439 mean=2.3780130660058574\n"
     ]
    },
    {
     "name": "stderr",
     "output_type": "stream",
     "text": [
      "/usr/local/lib/python3.6/site-packages/ipykernel_launcher.py:16: SettingWithCopyWarning: \n",
      "A value is trying to be set on a copy of a slice from a DataFrame.\n",
      "Try using .loc[row_indexer,col_indexer] = value instead\n",
      "\n",
      "See the caveats in the documentation: http://pandas.pydata.org/pandas-docs/stable/user_guide/indexing.html#returning-a-view-versus-a-copy\n",
      "  app.launch_new_instance()\n"
     ]
    },
    {
     "data": {
      "image/png": "[encoded data removed]",
      "text/plain": [
       "<Figure size 864x360 with 1 Axes>"
      ]
     },
     "metadata": {
      "needs_background": "light"
     },
     "output_type": "display_data"
    }
   ],
   "source": [
    "# Mutation size by category\n",
    "PlotMutationSize(fdata_list_annotations, fdata_labels_list_annotations, figprefix=\"Figure3\")"
   ]
  }
 ],
 "metadata": {
  "kernelspec": {
   "display_name": "Python 3",
   "language": "python",
   "name": "python3"
  },
  "language_info": {
   "codemirror_mode": {
    "name": "ipython",
    "version": 3
   },
   "file_extension": ".py",
   "mimetype": "text/x-python",
   "name": "python",
   "nbconvert_exporter": "python",
   "pygments_lexer": "ipython3",
   "version": "3.7.4"
  }
 },
 "nbformat": 4,
 "nbformat_minor": 4
}
