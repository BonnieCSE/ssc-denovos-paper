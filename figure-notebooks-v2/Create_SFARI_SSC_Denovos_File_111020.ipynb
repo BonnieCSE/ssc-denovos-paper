{
 "cells": [
  {
   "cell_type": "code",
   "execution_count": 37,
   "metadata": {},
   "outputs": [],
   "source": [
    "# Input mutation results\n",
    "MUTFILE = \"/storage/ileena/ssc-gangstr-denovos/denovos_GW_priors_Jan20/combined/SSC_allphases_011720_denovos_GW_priors_Jan20.final_qc_mutations.tab\"\n",
    "NAIVEMUTFILE = \"/storage/ileena/ssc-gangstr-denovos/denovos_naive_Jan20/SSC_allphases_011720_denovos_naive_Jan20.final_qc_mutations.tab\"\n",
    "\n",
    "MUTFILEX = \"/storage/ileena/ssc-gangstr-denovos/denovos_GW_priors_Jan20/SSC_allphases_072820_denovos_model_X.denovos.final_qc_mutations.tab\"\n",
    "NAIVEMUTFILEX = \"/storage/ileena/ssc-gangstr-denovos/denovos_naive_Jan20/SSC_allphases_072820_denovos_naive_X.denovos.final_qc_mutations.tab\"\n",
    "\n",
    "\n",
    "# Imports\n",
    "import numpy as np\n",
    "import os\n",
    "import pandas as pd\n",
    "import scipy.stats\n",
    "\n",
    "# Other input data\n",
    "AGEFILE = \"/storage/ileena/denovos4/metadata/ssc_4phases_ages.csv\"\n",
    "\n",
    "# Load main mutations data\n",
    "alldata = pd.read_csv(MUTFILE, sep=\"\\t\")\n",
    "usefams = set(alldata[\"family\"])\n",
    "\n",
    "alldata_x = pd.read_csv(MUTFILEX, sep=\"\\t\")\n",
    "alldata_x = alldata_x[alldata_x.family.isin(usefams)]\n",
    "\n",
    "# Load expansions identified using naive method\n",
    "ndata = pd.read_csv(NAIVEMUTFILE, sep=\"\\t\")\n",
    "ndata = ndata[(ndata[\"posterior\"]==-1) & (ndata[\"mutsize\"]>=5)] # moderately big expansion events\n",
    "# Filter ones that occur too many times\n",
    "expcounts = ndata.groupby([\"chrom\",\"pos\"], as_index=False).agg({\"child\": len})\n",
    "ndata = pd.merge(ndata, expcounts[expcounts[\"child\"]<=3][[\"chrom\",\"pos\"]], on=[\"chrom\",\"pos\"])\n",
    "\n",
    "# Load expansions - X\n",
    "ndata_x = pd.read_csv(NAIVEMUTFILEX, sep=\"\\t\")\n",
    "ndata_x = ndata_x[(ndata_x[\"posterior\"]==-1) & (ndata_x[\"mutsize\"]>=5)] # moderately big expansion events\n",
    "# Filter ones that occur too many times\n",
    "expcounts = ndata_x.groupby([\"chrom\",\"pos\"], as_index=False).agg({\"child\": len})\n",
    "ndata_x = pd.merge(ndata_x, expcounts[expcounts[\"child\"]<=3][[\"chrom\",\"pos\"]], on=[\"chrom\",\"pos\"])\n",
    "\n",
    "# Concatenate expansions\n",
    "ndata = ndata[ndata.family.isin(usefams)]\n",
    "alldata = pd.concat([alldata, ndata]).drop_duplicates()\n",
    "\n",
    "ndata_x = ndata_x[ndata_x.family.isin(usefams)]\n",
    "alldata_x = pd.concat([alldata_x, ndata_x]).drop_duplicates()\n",
    "\n",
    "# Manually remove remaining problematic families.\n",
    "# 14151 proband had 130 mutations\n",
    "# other families have <20 in both proband and sibling\n",
    "rmfams = [14151, 12434, 12281, 13673, 13351, 13355, 13143]\n",
    "\n",
    "alldata = alldata[~alldata.family.isin(rmfams)]\n",
    "alldata_x = alldata_x[~alldata_x.family.isin(rmfams)]\n",
    "\n",
    "ages = pd.read_csv(AGEFILE)\n",
    "ages[\"family\"] = ages[\"fam_id\"]\n",
    "ages[\"child\"] = ages[\"sample_id\"]\n",
    "alldata_x = pd.merge(alldata_x, ages[[\"child\",\"sex\"]], how=\"left\")\n"
   ]
  },
  {
   "cell_type": "code",
   "execution_count": 38,
   "metadata": {},
   "outputs": [
    {
     "name": "stdout",
     "output_type": "stream",
     "text": [
      "Number of unique families: 1593\n",
      "Number of total mutations (autosomes): 171578\n",
      "Number of total mutations (autosomes+chrX): 174330\n",
      "Number of distinct autosomal loci: 91925\n",
      "Number of distinct loci (autosomes+chrX): 93880\n"
     ]
    }
   ],
   "source": [
    "# Number of unique families\n",
    "print(\"Number of unique families: %s\"%len(set(alldata[\"family\"])))\n",
    "\n",
    "# Total number of mutations\n",
    "print(\"Number of total mutations (autosomes): %s\"%alldata.shape[0])\n",
    "# Total number of mutations - autosomes + chrX \n",
    "print(\"Number of total mutations (autosomes+chrX): %s\"%(alldata.shape[0]+alldata_x.shape[0]))\n",
    "\n",
    "\n",
    "# Total number of distinct loci - autosomes \n",
    "print(\"Number of distinct autosomal loci: %s\"%(alldata[[\"chrom\",\"pos\"]].drop_duplicates().shape[0]))\n",
    "# Total number of distinct loci - autosomes + chrX\n",
    "print(\"Number of distinct loci (autosomes+chrX): %s\"%(alldata[[\"chrom\",\"pos\"]].drop_duplicates().shape[0]+\n",
    "                                               alldata_x[[\"chrom\",\"pos\"]].drop_duplicates().shape[0]))\n"
   ]
  },
  {
   "cell_type": "code",
   "execution_count": 47,
   "metadata": {},
   "outputs": [],
   "source": [
    "denovosfn=\"/storage/ileena/SFARI_SSC_DENOVOS/Mitra_etal_SFARI_SSC_denovo_TRs_Nov2020.csv\"\n",
    "out = pd.concat([alldata, alldata_x], axis=0, ignore_index=True, sort=False)\n",
    "outcols = ['chrom', 'pos', 'period', 'prior', 'family', 'child', 'phenotype',\n",
    "       'posterior', 'newallele', 'mutsize',  'poocase','child_gt', 'mat_gt', 'pat_gt',\n",
    "       'encl_child', 'encl_mother', 'encl_father', 'encl_parent',\n",
    "       'long_mother', 'long_father', 'phase']\n",
    "out[outcols].to_csv(denovosfn, index=False, quoting=None)\n"
   ]
  },
  {
   "cell_type": "code",
   "execution_count": 68,
   "metadata": {},
   "outputs": [],
   "source": [
    "ped = pd.read_csv(\"/storage/ileena/denovos4/metadata/ssc_family_phases.txt\", sep=\"\\t\", names=[\"family\", \"sampleid\", \"phase\"])\n",
    "ped = ped[ped.family.isin(out.family.unique())]\n",
    "out[\"sampleid\"] = out.child\n",
    "sampleids  = pd.merge(ped, out[[\"family\", \"sampleid\", \"phase\"]], \n",
    "                      how=\"left\", \n",
    "                      on=[\"family\", \"sampleid\", \"phase\"])\n",
    "sampleids[\"child\"] = sampleids.sampleid.isin(out.child.unique())\n",
    "sampleids.to_csv(\"/storage/ileena/SFARI_SSC_DENOVOS/Mitra_etal_SFARI_SSC_SampleIDs_Nov2020.csv\", header=True, index=False, quoting=None)"
   ]
  },
  {
   "cell_type": "code",
   "execution_count": 59,
   "metadata": {},
   "outputs": [
    {
     "data": {
      "text/plain": [
       "array([nan], dtype=object)"
      ]
     },
     "execution_count": 59,
     "metadata": {},
     "output_type": "execute_result"
    }
   ],
   "source": []
  },
  {
   "cell_type": "code",
   "execution_count": null,
   "metadata": {},
   "outputs": [],
   "source": []
  }
 ],
 "metadata": {
  "kernelspec": {
   "display_name": "Python 3",
   "language": "python",
   "name": "python3"
  },
  "language_info": {
   "codemirror_mode": {
    "name": "ipython",
    "version": 3
   },
   "file_extension": ".py",
   "mimetype": "text/x-python",
   "name": "python",
   "nbconvert_exporter": "python",
   "pygments_lexer": "ipython3",
   "version": "3.6.8"
  }
 },
 "nbformat": 4,
 "nbformat_minor": 4
}
