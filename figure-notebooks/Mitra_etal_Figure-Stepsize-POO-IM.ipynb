{
 "cells": [
  {
   "cell_type": "code",
   "execution_count": 42,
   "metadata": {},
   "outputs": [
    {
     "name": "stdout",
     "output_type": "stream",
     "text": [
      "Populating the interactive namespace from numpy and matplotlib\n"
     ]
    },
    {
     "name": "stderr",
     "output_type": "stream",
     "text": [
      "/usr/local/lib/python3.6/site-packages/IPython/core/magics/pylab.py:160: UserWarning: pylab import has clobbered these variables: ['mat']\n",
      "`%matplotlib` prevents importing * from pylab and numpy\n",
      "  \"\\n`%matplotlib` prevents importing * from pylab and numpy\"\n"
     ]
    }
   ],
   "source": [
    "%pylab inline"
   ]
  },
  {
   "cell_type": "markdown",
   "metadata": {},
   "source": [
    "This notebook contains code to reproduce the following from Mitra, et al.:\n",
    "\n",
    "**Main Figures:** \n",
    "* Figure 2A: Overall step size distribution\n",
    "* Figure: Step size by parental origin\n"
   ]
  },
  {
   "cell_type": "code",
   "execution_count": 43,
   "metadata": {},
   "outputs": [],
   "source": [
    "# Input mutation results\n",
    "MUTFILE = \"/storage/ileena/ssc-gangstr-denovos/denovos_GW_priors_Jan20/combined/SSC_allphases_011720_denovos_GW_priors_Jan20.final_qc_mutations.tab\"\n",
    "NAIVEMUTFILE = \"/storage/ileena/ssc-gangstr-denovos/denovos_naive_Jan20/SSC_allphases_011720_denovos_naive_Jan20.final_qc_mutations.tab\"\n",
    "\n",
    "MUTFILEX = \"/storage/ileena/ssc-gangstr-denovos/denovos_GW_priors_Jan20/SSC_allphases_072820_denovos_model_X.denovos.final_qc_mutations.tab\"\n",
    "NAIVEMUTFILEX = \"/storage/ileena/ssc-gangstr-denovos/denovos_naive_Jan20/SSC_allphases_072820_denovos_naive_X.denovos.final_qc_mutations.tab\"\n",
    "\n",
    "# Make editable in Illustrator\n",
    "import matplotlib\n",
    "matplotlib.rcParams['pdf.fonttype'] = 42\n",
    "matplotlib.rcParams['ps.fonttype'] = 42\n",
    "\n",
    "# Imports\n",
    "import matplotlib.pyplot as plt\n",
    "import numpy as np\n",
    "import os\n",
    "import pandas as pd\n",
    "import scipy.stats\n",
    "\n",
    "# Other input data\n",
    "AGEFILE = \"/storage/ileena/denovos4/metadata/ssc_4phases_ages.csv\"\n",
    "ANNOTFILE = \"/storage/mgymrek/ssc-denovos/annotations/hg38_gangstr_MasterAnnotation.bed\" #includes X\n",
    "\n",
    "\n",
    "# Output path info\n",
    "OUTDIR = \"/storage/ileena/pdfs/\""
   ]
  },
  {
   "cell_type": "code",
   "execution_count": 44,
   "metadata": {},
   "outputs": [],
   "source": [
    "# Load main mutations data\n",
    "alldata = pd.read_csv(MUTFILE, sep=\"\\t\")\n",
    "usefams = set(alldata[\"family\"])\n",
    "alldata = pd.concat([alldata,pd.read_csv(MUTFILEX, sep=\"\\t\")], sort=False)\n",
    "alldata = alldata[alldata.family.isin(usefams)]\n",
    "\n",
    "\n",
    "# Load expansions identified using naive method\n",
    "ndata = pd.concat([pd.read_csv(NAIVEMUTFILE, sep=\"\\t\"),\n",
    "                   pd.read_csv(NAIVEMUTFILEX, sep=\"\\t\")], sort=False)\n",
    "# moderately big expansion events\n",
    "ndata = ndata[(ndata[\"posterior\"]==-1) & (ndata[\"mutsize\"]>=5)].copy() \n",
    "\n",
    "# Filter ones that occur too many times\n",
    "expcounts = ndata.groupby([\"chrom\",\"pos\"], as_index=False).agg({\"child\": len})\n",
    "ndata = pd.merge(ndata, expcounts[expcounts[\"child\"]<=3][[\"chrom\",\"pos\"]], on=[\"chrom\",\"pos\"])\n",
    "\n",
    "# Concatenate expansions\n",
    "ndata = ndata[ndata.family.isin(usefams)]\n",
    "alldata = pd.concat([alldata, ndata]).drop_duplicates()\n",
    "\n",
    "\n",
    "# Manually remove remaining problematic families.\n",
    "# 14151 proband had 130 mutations\n",
    "# other families have <20 in both proband and sibling\n",
    "rmfams = [14151, 12434, 12281, 13673, 13351, 13355, 13143]\n",
    "alldata = alldata[~alldata.family.isin(rmfams)]\n",
    "\n",
    "# Load annotation info\n",
    "annot = pd.read_csv(ANNOTFILE, sep=\"\\t\")\n",
    "\n",
    "# Set up fields\n",
    "def GetChrom(x):\n",
    "    if \"chr\" in str(x): return x[3:]\n",
    "    else: return x\n",
    "alldata[\"chrom\"] = alldata[\"chrom\"].apply(GetChrom)\n",
    "annot[\"chrom\"] = annot[\"chrom\"].apply(GetChrom)\n",
    "annot[\"pos\"] = annot[\"start\"]\n",
    "\n",
    "# Merge\n",
    "adata = pd.merge(alldata, annot[[\"chrom\",\"pos\",\"end\"]], on=[\"chrom\",\"pos\"])"
   ]
  },
  {
   "cell_type": "markdown",
   "metadata": {},
   "source": [
    "# Figure 2A: Overall step size distribution"
   ]
  },
  {
   "cell_type": "code",
   "execution_count": 45,
   "metadata": {},
   "outputs": [],
   "source": [
    "NUMSTEPS = 15 # show mutations +/- this number\n",
    "bins = bins=np.arange(-1*NUMSTEPS,NUMSTEPS+1,1)\n",
    "\n",
    "def BinomTest(data):\n",
    "    #### Binom Test\n",
    "    #the number of successes = number of expansions\n",
    "    nexp = np.sum(data[\"mutsize\"]>0)\n",
    "    n = data.shape[0]\n",
    "    print(\"n=\",n)\n",
    "    print(\"expansions=%1.2f\"%(nexp/n))\n",
    "    print(\"contractions=%1.2f\"%(1-(nexp/n)))\n",
    "    print(\"Binomial pval=%s\"%scipy.stats.binom_test(nexp, n=n, p=0.5, alternative='two-sided'))\n"
   ]
  },
  {
   "cell_type": "code",
   "execution_count": 46,
   "metadata": {},
   "outputs": [
    {
     "name": "stdout",
     "output_type": "stream",
     "text": [
      "All (excluding homopolymers)\n",
      "n= 70899\n",
      "expansions=0.56\n",
      "contractions=0.44\n",
      "Binomial pval=3.8504199764217223e-246\n"
     ]
    },
    {
     "data": {
      "image/png": "[encoded data removed]",
      "text/plain": [
       "<Figure size 432x288 with 1 Axes>"
      ]
     },
     "metadata": {
      "needs_background": "light"
     },
     "output_type": "display_data"
    }
   ],
   "source": [
    "print(\"All (excluding homopolymers)\")\n",
    "\n",
    "fig = plt.figure()\n",
    "ax = fig.add_subplot(111)\n",
    "\n",
    "plotdata = adata[(adata.chrom!=\"X\") & (adata[\"period\"]>1)]\n",
    "ax.hist(plotdata[\"mutsize\"], color=\"black\", edgecolor=\"white\", bins=bins,\n",
    "       weights=np.zeros_like(plotdata[\"mutsize\"]) + 1. / plotdata[\"mutsize\"].size);\n",
    "\n",
    "ax.set_xlabel(\"Step size (repeat units)\", size=15)\n",
    "ax.set_ylabel(\"Fraction of mutations\", size=15)\n",
    "\n",
    "# Hide the right and top spines\n",
    "ax.spines['right'].set_visible(False)\n",
    "ax.spines['top'].set_visible(False)\n",
    "ax.yaxis.set_ticks_position('left')\n",
    "ax.xaxis.set_ticks_position('bottom');\n",
    "\n",
    "fig.savefig(os.path.join(OUTDIR, \"Figure2_StepSize-All.pdf\"))\n",
    "\n",
    "#### Binom Test\n",
    "BinomTest(plotdata)"
   ]
  },
  {
   "cell_type": "markdown",
   "metadata": {},
   "source": [
    "# SuppFig: step size by parental origin"
   ]
  },
  {
   "cell_type": "code",
   "execution_count": 47,
   "metadata": {},
   "outputs": [
    {
     "name": "stdout",
     "output_type": "stream",
     "text": [
      "Father (excluding homopolymers)\n",
      "n= 26248\n",
      "expansions=0.50\n",
      "contractions=0.50\n",
      "Binomial pval=0.7906927940458632\n"
     ]
    },
    {
     "data": {
      "image/png": "[encoded data removed]",
      "text/plain": [
       "<Figure size 432x288 with 1 Axes>"
      ]
     },
     "metadata": {
      "needs_background": "light"
     },
     "output_type": "display_data"
    }
   ],
   "source": [
    "#### FATHER\n",
    "print(\"Father (excluding homopolymers)\")\n",
    "fig = plt.figure()\n",
    "ax = fig.add_subplot(111)\n",
    "\n",
    "plotdata = adata[(adata.chrom!=\"X\") & (adata[\"period\"]>1) & (adata[\"poocase\"]==2)].copy()\n",
    "ax.hist(plotdata[\"mutsize\"], color=\"black\", edgecolor=\"white\", bins=bins,\n",
    "       weights=np.zeros_like(plotdata[\"mutsize\"]) + 1. / plotdata[\"mutsize\"].size);\n",
    "\n",
    "ax.set_xlabel(\"Step size (repeat units)\", size=15)\n",
    "ax.set_ylabel(\"Fraction of mutations\", size=15)\n",
    "\n",
    "# Hide the right and top spines\n",
    "ax.spines['right'].set_visible(False)\n",
    "ax.spines['top'].set_visible(False)\n",
    "ax.yaxis.set_ticks_position('left')\n",
    "ax.xaxis.set_ticks_position('bottom');\n",
    "\n",
    "fig.savefig(os.path.join(OUTDIR, \"SuppFig_StepSize-FATHER.pdf\"))\n",
    "\n",
    "#### Binom Test\n",
    "BinomTest(plotdata)"
   ]
  },
  {
   "cell_type": "code",
   "execution_count": 48,
   "metadata": {},
   "outputs": [
    {
     "name": "stdout",
     "output_type": "stream",
     "text": [
      "Mother (excluding homopolymers)\n",
      "n= 9061\n",
      "expansions=0.57\n",
      "contractions=0.43\n",
      "Binomial pval=2.1740424167128623e-39\n"
     ]
    },
    {
     "data": {
      "image/png": "[encoded data removed]",
      "text/plain": [
       "<Figure size 432x288 with 1 Axes>"
      ]
     },
     "metadata": {
      "needs_background": "light"
     },
     "output_type": "display_data"
    }
   ],
   "source": [
    "#### MOTHER \n",
    "print(\"Mother (excluding homopolymers)\")\n",
    "fig = plt.figure()\n",
    "ax = fig.add_subplot(111)\n",
    "\n",
    "plotdata = adata[(adata.chrom!=\"X\") & (adata[\"period\"]>1) & (adata[\"poocase\"]==3)].copy()\n",
    "ax.hist(plotdata[\"mutsize\"], color=\"black\", edgecolor=\"white\", bins=bins,\n",
    "       weights=np.zeros_like(plotdata[\"mutsize\"]) + 1. / plotdata[\"mutsize\"].size);\n",
    "\n",
    "ax.set_xlabel(\"Step size (repeat units)\", size=15)\n",
    "ax.set_ylabel(\"Fraction of mutations\", size=15)\n",
    "\n",
    "# Hide the right and top spines\n",
    "ax.spines['right'].set_visible(False)\n",
    "ax.spines['top'].set_visible(False)\n",
    "ax.yaxis.set_ticks_position('left')\n",
    "ax.xaxis.set_ticks_position('bottom');\n",
    "\n",
    "fig.savefig(os.path.join(OUTDIR, \"SuppFig_StepSize-MOTHER.pdf\"))\n",
    "\n",
    "#### Binom Test\n",
    "BinomTest(plotdata)"
   ]
  },
  {
   "cell_type": "markdown",
   "metadata": {},
   "source": [
    "# Two proportion z-test"
   ]
  },
  {
   "cell_type": "code",
   "execution_count": 49,
   "metadata": {},
   "outputs": [
    {
     "name": "stdout",
     "output_type": "stream",
     "text": [
      "Father:  proportion= 0.4997366044551475 n= 26248\n",
      "Mother:  proportion= 0.5625458739645591 n= 9061\n",
      "p-val= 6.033469315359162e-25\n"
     ]
    }
   ],
   "source": [
    "#### Testing proportion of expansions from mothers vs. fathers \n",
    "#### two tailed proportion test p = (p1 * n1 + p2 * n2) / (n1 + n2)\n",
    "nfat = len(adata[(adata.chrom!=\"X\") & (adata[\"period\"]>1) & (adata[\"poocase\"]==2)])\n",
    "nmat = len(adata[(adata.chrom!=\"X\") & (adata[\"period\"]>1) & (adata[\"poocase\"]==3)])\n",
    "fat = adata[(adata[\"period\"]>1) & (adata[\"poocase\"]==2)] \n",
    "pfat = sum(fat[\"mutsize\"]>0)/len(fat.mutsize)\n",
    "mat = adata[(adata[\"period\"]>1) & (adata[\"poocase\"]==3)] \n",
    "pmat = sum(mat[\"mutsize\"]>0)/len(mat.mutsize)\n",
    "p = ((pfat*nfat) + (pmat*nmat)) / (nfat+nmat)\n",
    "\n",
    "print(\"Father: \", \"proportion=\",pfat, \"n=\", nfat)\n",
    "print(\"Mother: \", \"proportion=\",pmat, \"n=\", nmat)\n",
    "\n",
    "#### SE = sqrt{ p * ( 1 - p ) * [ (1/n1) + (1/n2) ] }\n",
    "se = np.sqrt(p * (1-p) * ((1/nfat) + 1/nmat))\n",
    "\n",
    "#### z = (p1 - p2) / SE\n",
    "z = (pfat - pmat) / se\n",
    "# print(z)\n",
    "\n",
    "#### p-value\n",
    "p_value = scipy.stats.norm.sf(abs(z))*2 #twosided\n",
    "print(\"p-val=\",p_value)"
   ]
  }
 ],
 "metadata": {
  "kernelspec": {
   "display_name": "Python 3",
   "language": "python",
   "name": "python3"
  },
  "language_info": {
   "codemirror_mode": {
    "name": "ipython",
    "version": 3
   },
   "file_extension": ".py",
   "mimetype": "text/x-python",
   "name": "python",
   "nbconvert_exporter": "python",
   "pygments_lexer": "ipython3",
   "version": "3.6.8"
  }
 },
 "nbformat": 4,
 "nbformat_minor": 4
}
