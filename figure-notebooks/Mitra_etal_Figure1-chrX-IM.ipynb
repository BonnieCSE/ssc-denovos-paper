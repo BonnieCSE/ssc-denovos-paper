{
 "cells": [
  {
   "cell_type": "code",
   "execution_count": 1,
   "metadata": {},
   "outputs": [
    {
     "name": "stdout",
     "output_type": "stream",
     "text": [
      "Populating the interactive namespace from numpy and matplotlib\n"
     ]
    }
   ],
   "source": [
    "%pylab inline"
   ]
  },
  {
   "cell_type": "markdown",
   "metadata": {},
   "source": [
    "This notebook contains code to reproduce the following from Mitra, et al.:\n",
    "\n",
    "**Figures:** \n",
    "* Figure: Number of mutations per person \n",
    "\n",
    "\n",
    "**Statistics:**\n",
    "* Number of total families included after filtering\n",
    "* Total number of mutations passing filters\n",
    "* Percent of mutations that are expansions vs. contractions\n",
    "* Number of mutations per healthy child\n",
    "* Correlation of mutation counts wihin family\n",
    "* Correlation of # mutations with paternal and maternal age\n",
    "* Ratio of paternal:maternal mutations"
   ]
  },
  {
   "cell_type": "code",
   "execution_count": 35,
   "metadata": {},
   "outputs": [],
   "source": [
    "# Input mutation results\n",
    "MUTFILE = \"/storage/ileena/ssc-gangstr-denovos/denovos_GW_priors_Jan20/combined/SSC_allphases_011720_denovos_GW_priors_Jan20.final_qc_mutations.tab\"\n",
    "NAIVEMUTFILE = \"/storage/ileena/ssc-gangstr-denovos/denovos_naive_Jan20/SSC_allphases_011720_denovos_naive_Jan20.final_qc_mutations.tab\"\n",
    "\n",
    "MUTFILEX = \"/storage/ileena/ssc-gangstr-denovos/denovos_GW_priors_Jan20/SSC_allphases_072820_denovos_model_X.denovos.final_qc_mutations.tab\"\n",
    "NAIVEMUTFILEX = \"/storage/ileena/ssc-gangstr-denovos/denovos_naive_Jan20/SSC_allphases_072820_denovos_naive_X.denovos.final_qc_mutations.tab\"\n",
    "\n",
    "# Make editable in Illustrator\n",
    "import matplotlib\n",
    "matplotlib.rcParams['pdf.fonttype'] = 42\n",
    "matplotlib.rcParams['ps.fonttype'] = 42\n",
    "\n",
    "# Imports\n",
    "import matplotlib.pyplot as plt\n",
    "import numpy as np\n",
    "import os\n",
    "import pandas as pd\n",
    "import scipy.stats\n",
    "\n",
    "# Other input data\n",
    "AGEFILE = \"/storage/ileena/denovos4/metadata/ssc_4phases_ages.csv\"\n",
    "ANNOTFILE = \"/storage/mgymrek/ssc-denovos/annotations/hg38_gangstr_MasterAnnotation.bed\" #includes X\n",
    "\n",
    "\n",
    "# Output path info\n",
    "OUTDIR = \"/storage/ileena/pdfs/\""
   ]
  },
  {
   "cell_type": "code",
   "execution_count": 4,
   "metadata": {},
   "outputs": [],
   "source": [
    "def GetCounts(df, pt):\n",
    "    counts = df[df[\"phenotype\"]==pt]\n",
    "    return counts.groupby(\"child\").size().tolist()\n",
    "\n",
    "\n",
    "def CaseControlTest(data):\n",
    "    # 1 unaffected, 2 affected\n",
    "    aff_counts = GetCounts(data, 2)\n",
    "    unaff_counts = GetCounts(data, 1)\n",
    "#     p = scipy.stats.ttest_rel(unaff_counts, aff_counts)[1]\n",
    "    p = scipy.stats.mannwhitneyu(unaff_counts, aff_counts,  alternative=\"less\")[1]\n",
    "    # Stats\n",
    "    print(\"Healthy child - median=%s mean=%s\"%(np.median(unaff_counts), np.mean(unaff_counts)))\n",
    "    print(\"ASD child - median=%s mean=%s\"%(np.median(aff_counts), np.mean(aff_counts)))\n",
    "    mean_num_muts = np.mean(data.groupby(\"child\").size().tolist())\n",
    "    print(\"Total average = %s\"%(mean_num_muts))\n",
    "    print(\"MannWhitney test p= %s\"%(p))\n",
    "\n"
   ]
  },
  {
   "cell_type": "code",
   "execution_count": 5,
   "metadata": {},
   "outputs": [],
   "source": [
    "# Load main mutations data\n",
    "alldata = pd.read_csv(MUTFILE, sep=\"\\t\")\n",
    "usefams = set(alldata[\"family\"])\n",
    "alldata = pd.concat([alldata,pd.read_csv(MUTFILEX, sep=\"\\t\")], sort=False)\n",
    "alldata = alldata[alldata.family.isin(usefams)]\n",
    "\n",
    "\n",
    "# Load expansions identified using naive method\n",
    "ndata = pd.concat([pd.read_csv(NAIVEMUTFILE, sep=\"\\t\"),\n",
    "                   pd.read_csv(NAIVEMUTFILEX, sep=\"\\t\")], sort=False)\n",
    "# moderately big expansion events\n",
    "ndata = ndata[(ndata[\"posterior\"]==-1) & (ndata[\"mutsize\"]>=5)].copy() \n",
    "\n",
    "# Filter ones that occur too many times\n",
    "expcounts = ndata.groupby([\"chrom\",\"pos\"], as_index=False).agg({\"child\": len})\n",
    "ndata = pd.merge(ndata, expcounts[expcounts[\"child\"]<=3][[\"chrom\",\"pos\"]], on=[\"chrom\",\"pos\"])\n",
    "\n",
    "# Concatenate expansions\n",
    "ndata = ndata[ndata.family.isin(usefams)]\n",
    "alldata = pd.concat([alldata, ndata]).drop_duplicates()\n",
    "\n",
    "\n",
    "# Manually remove remaining problematic families.\n",
    "# 14151 proband had 130 mutations\n",
    "# other families have <20 in both proband and sibling\n",
    "rmfams = [14151, 12434, 12281, 13673, 13351, 13355, 13143]\n",
    "alldata = alldata[~alldata.family.isin(rmfams)]\n",
    "\n",
    "\n",
    "# Age data\n",
    "ages = pd.read_csv(AGEFILE)\n",
    "ages[\"family\"] = ages[\"fam_id\"]\n",
    "ages[\"child\"] = ages[\"sample_id\"]\n",
    "ages = ages[~np.isnan(ages[\"father_age_birth\"])]\n",
    "\n",
    "\n",
    "alldata = pd.merge(alldata, ages, on=[\"family\", \"child\"], how=\"left\")"
   ]
  },
  {
   "cell_type": "code",
   "execution_count": 8,
   "metadata": {},
   "outputs": [
    {
     "name": "stdout",
     "output_type": "stream",
     "text": [
      "Number of unique families: 1593\n",
      "Number of unique children: 3186\n",
      "Number of unique TRs: 93880\n",
      "Number of total mutations: 174330\n"
     ]
    }
   ],
   "source": [
    "### Autosomes + X\n",
    "# Number of unique families, children\n",
    "print(\"Number of unique families: %s\"%len(set(alldata[\"family\"])))\n",
    "print(\"Number of unique children: %s\"%len(set(alldata[\"child\"])))\n",
    "\n",
    "# Number of unique TRs\n",
    "print(\"Number of unique TRs: %s\"%len(alldata[[\"chrom\", \"pos\", \"period\"]].drop_duplicates()))\n",
    "\n",
    "# Total number of mutations\n",
    "print(\"Number of total mutations: %s\"%alldata.shape[0])"
   ]
  },
  {
   "cell_type": "code",
   "execution_count": 12,
   "metadata": {},
   "outputs": [
    {
     "name": "stdout",
     "output_type": "stream",
     "text": [
      "Percent expansions: 0.704778294040039\n",
      "pval=1.5e-323\n",
      "Percent expansions - no homopolymers: 0.5617690457973549\n",
      "pval=1.7800208895001996e-245\n",
      "Number non-homopolymer mutations: 73192\n",
      "Healthy child - median=54.0 mean=54.204017576898934\n",
      "ASD child - median=55.0 mean=55.23101067168864\n",
      "MW pval=0.01361597989707093\n"
     ]
    }
   ],
   "source": [
    "### Autosomes + X\n",
    "\n",
    "# How many mutations are expansions vs. contractions\n",
    "print(\"Percent expansions: %s\"%np.mean(alldata[\"mutsize\"]>0))\n",
    "print(\"Binomial pval=%s\"%scipy.stats.binom_test(np.sum(alldata[\"mutsize\"]>0), n=alldata.shape[0], p=0.5))\n",
    "print(\"Percent expansions - no homopolymers: %s\"%np.mean(alldata[alldata[\"period\"]>1][\"mutsize\"]>0))\n",
    "print(\"Binomial pval=%s\"%scipy.stats.binom_test(np.sum(alldata[alldata[\"period\"]>1][\"mutsize\"]>0), n=alldata[alldata[\"period\"]>1].shape[0], p=0.5))\n",
    "print(\"Number non-homopolymer mutations: %s\"%alldata[alldata[\"period\"]>1].shape[0])\n",
    "\n",
    "# Cases vs controls\n",
    "aff_counts = GetCounts(alldata, 2)\n",
    "unaff_counts = GetCounts(alldata, 1)\n",
    "\n",
    "# Stats\n",
    "CaseControlTest(alldata)\n"
   ]
  },
  {
   "cell_type": "markdown",
   "metadata": {},
   "source": [
    "# Number of CHR X mutations per person"
   ]
  },
  {
   "cell_type": "code",
   "execution_count": 17,
   "metadata": {},
   "outputs": [
    {
     "name": "stdout",
     "output_type": "stream",
     "text": [
      "Number of unique families: 1196\n",
      "Number of unique children: 1566\n",
      "Number of unique TRs: 1955\n",
      "Number of total mutations: 2752\n",
      "Percent expansions: 0.59375\n",
      "Binomial pval=7.14602846489797e-23\n",
      "Percent expansions - no homopolymers: 0.5072992700729927\n",
      "Binomial pval=0.6077393607514572\n",
      "Number non-homopolymer mutations: 1370\n",
      "Healthy child - median=2.0 mean=1.9083333333333334\n",
      "ASD child - median=1.0 mean=1.518151815181518\n",
      "MW pval=1.0\n",
      "Healthy child - median=2.0 mean=1.9083333333333334\n",
      "ASD child - median=1.0 mean=1.518151815181518\n",
      "Total average = 1.7573435504469987\n",
      "MannWhitney test p= 1.0\n"
     ]
    }
   ],
   "source": [
    "#### X chrom\n",
    "x = alldata[alldata.chrom==\"X\"].copy()\n",
    "\n",
    "### Autosomes + X\n",
    "# Number of unique families, children\n",
    "print(\"Number of unique families: %s\"%len(set(x[\"family\"])))\n",
    "print(\"Number of unique children: %s\"%len(set(x[\"child\"]))) ##note some families do not have both proband & sibling\n",
    "\n",
    "# Number of unique TRs\n",
    "print(\"Number of unique TRs: %s\"%len(x[[\"chrom\", \"pos\", \"period\"]].drop_duplicates()))\n",
    "\n",
    "# Total number of mutations\n",
    "print(\"Number of total mutations: %s\"%x.shape[0])\n",
    "\n",
    "# How many mutations are expansions vs. contractions\n",
    "print(\"Percent expansions: %s\"%np.mean(x[\"mutsize\"]>0))\n",
    "print(\"Binomial pval=%s\"%scipy.stats.binom_test(np.sum(x[\"mutsize\"]>0), n=x.shape[0], p=0.5))\n",
    "print(\"Percent expansions - no homopolymers: %s\"%np.mean(x[x[\"period\"]>1][\"mutsize\"]>0))\n",
    "print(\"Binomial pval=%s\"%scipy.stats.binom_test(np.sum(x[x[\"period\"]>1][\"mutsize\"]>0), n=x[x[\"period\"]>1].shape[0], p=0.5))\n",
    "print(\"Number non-homopolymer mutations: %s\"%x[x[\"period\"]>1].shape[0])\n",
    "\n",
    "# Cases vs controls\n",
    "aff_counts = GetCounts(x, 2)\n",
    "unaff_counts = GetCounts(x, 1)\n",
    "\n",
    "# Stats\n",
    "CaseControlTest(x)\n",
    "\n"
   ]
  },
  {
   "cell_type": "code",
   "execution_count": 15,
   "metadata": {},
   "outputs": [
    {
     "name": "stdout",
     "output_type": "stream",
     "text": [
      "Healthy child - median=2.0 mean=1.9083333333333334\n",
      "ASD child - median=1.0 mean=1.518151815181518\n",
      "Total average = 1.7573435504469987\n",
      "MannWhitney test p= 1.0\n"
     ]
    },
    {
     "data": {
      "image/png": "[encoded data removed]",
      "text/plain": [
       "<Figure size 432x288 with 1 Axes>"
      ]
     },
     "metadata": {
      "needs_background": "light"
     },
     "output_type": "display_data"
    }
   ],
   "source": [
    "#### X chrom\n",
    "# Get number of mutations per sample\n",
    "mut_ctrl = x[x[\"phenotype\"]==1].groupby([\"family\"], as_index=False).agg({\"child\": len})\n",
    "mut_ctrl.columns = [\"family\",\"num_ctrl\"]\n",
    "mut_case = x[x[\"phenotype\"]==2].groupby([\"family\"], as_index=False).agg({\"child\": len})\n",
    "mut_case.columns = [\"family\",\"num_case\"]\n",
    "famdata = pd.merge(mut_ctrl, mut_case, on=[\"family\"])\n",
    "\n",
    "# Plot number of mutations per sample histogram\n",
    "fig = plt.figure()\n",
    "ax = fig.add_subplot(111)\n",
    "ax.hist(famdata[\"num_case\"], color=\"red\", alpha=0.5, bins=np.arange(0, max(famdata[\"num_case\"])+5, 1), edgecolor=\"black\", linewidth=0.5, label=\"case\");\n",
    "ax.hist(famdata[\"num_ctrl\"], color=\"blue\", alpha=0.5, bins=np.arange(0, max(famdata[\"num_case\"])+5, 1), edgecolor=\"black\", linewidth=0.5, label=\"control\");\n",
    "\n",
    "ax.set_xlabel(\"# TR mutations per individual\", size=15);\n",
    "ax.set_ylabel(\"Frequency\", size=15);\n",
    "ax.axvline(x=np.median(famdata[\"num_case\"]), color=\"red\", linestyle=\"solid\")\n",
    "ax.axvline(x=np.median(famdata[\"num_ctrl\"]), color=\"blue\", linestyle=\"solid\")\n",
    "\n",
    "# Hide the right and top spines\n",
    "ax.spines['right'].set_visible(False)\n",
    "ax.spines['top'].set_visible(False)\n",
    "ax.yaxis.set_ticks_position('left')\n",
    "ax.xaxis.set_ticks_position('bottom');\n",
    "ax.legend(loc=\"upper right\")\n",
    "fig.savefig(os.path.join(OUTDIR, \"Figure1_NumDenovos-X.pdf\"))\n"
   ]
  },
  {
   "cell_type": "markdown",
   "metadata": {},
   "source": [
    "# Number of CHR X mutations per person by sex"
   ]
  },
  {
   "cell_type": "code",
   "execution_count": 22,
   "metadata": {},
   "outputs": [
    {
     "name": "stdout",
     "output_type": "stream",
     "text": [
      "Number of unique families: 793\n",
      "Number of unique children: 861\n",
      "Number of unique TRs: 1441\n",
      "Number of total mutations: 1883\n",
      "Percent exsexpansions: 0.667020711630377\n",
      "Binomial pval=2.3773024905084238e-48\n",
      "Percent exsexpansions - no homopolymers: 0.572605561277034\n",
      "Binomial pval=6.786800070109127e-06\n",
      "Number non-homopolymer mutations: 971\n",
      "female Stats:\n",
      "Healthy child - median=2.0 mean=2.1564722617354195\n",
      "ASD child - median=2.0 mean=2.3227848101265822\n",
      "Total average = 2.186991869918699\n",
      "MannWhitney test p= 0.23136672694871518\n"
     ]
    }
   ],
   "source": [
    "#### X chrom by sex\n",
    "sex = \"female\"\n",
    "xsex = alldata[(alldata.chrom==\"X\") & (alldata.sex==sex)].copy()\n",
    "\n",
    "### Autosomes + xsex\n",
    "# Number of unique families, children\n",
    "print(\"Number of unique families: %s\"%len(set(xsex[\"family\"])))\n",
    "print(\"Number of unique children: %s\"%len(set(xsex[\"child\"]))) ##note some families do not have both proband & sibling same sex\n",
    "\n",
    "# Number of unique TRs\n",
    "print(\"Number of unique TRs: %s\"%len(xsex[[\"chrom\", \"pos\", \"period\"]].drop_duplicates()))\n",
    "\n",
    "# Total number of mutations\n",
    "print(\"Number of total mutations: %s\"%xsex.shape[0])\n",
    "\n",
    "# How many mutations are exsexpansions vs. contractions\n",
    "print(\"Percent exsexpansions: %s\"%np.mean(xsex[\"mutsize\"]>0))\n",
    "print(\"Binomial pval=%s\"%scipy.stats.binom_test(np.sum(xsex[\"mutsize\"]>0), n=xsex.shape[0], p=0.5))\n",
    "print(\"Percent exsexpansions - no homopolymers: %s\"%np.mean(xsex[xsex[\"period\"]>1][\"mutsize\"]>0))\n",
    "print(\"Binomial pval=%s\"%scipy.stats.binom_test(np.sum(xsex[xsex[\"period\"]>1][\"mutsize\"]>0), n=xsex[xsex[\"period\"]>1].shape[0], p=0.5))\n",
    "print(\"Number non-homopolymer mutations: %s\"%xsex[xsex[\"period\"]>1].shape[0])\n",
    "\n",
    "# Cases vs controls\n",
    "aff_counts = GetCounts(xsex, 2)\n",
    "unaff_counts = GetCounts(xsex, 1)\n",
    "\n",
    "# Stats\n",
    "print(sex, \"Stats:\")\n",
    "CaseControlTest(xsex)\n"
   ]
  },
  {
   "cell_type": "code",
   "execution_count": 23,
   "metadata": {},
   "outputs": [
    {
     "data": {
      "image/png": "[encoded data removed]",
      "text/plain": [
       "<Figure size 432x288 with 1 Axes>"
      ]
     },
     "metadata": {
      "needs_background": "light"
     },
     "output_type": "display_data"
    }
   ],
   "source": [
    "####  X chrom by sex\n",
    "\n",
    "# Get number of mutations per sample\n",
    "mut_ctrl = xsex[xsex[\"phenotype\"]==1].groupby([\"family\"], as_index=False).agg({\"child\": len})\n",
    "mut_ctrl.columns = [\"family\",\"num_ctrl\"]\n",
    "mut_case = xsex[xsex[\"phenotype\"]==2].groupby([\"family\"], as_index=False).agg({\"child\": len})\n",
    "mut_case.columns = [\"family\",\"num_case\"]\n",
    "famdata = pd.merge(mut_ctrl, mut_case, on=[\"family\"])\n",
    "\n",
    "# Plot number of mutations per sample histogram\n",
    "fig = plt.figure()\n",
    "ax = fig.add_subplot(111)\n",
    "ax.hist(famdata[\"num_case\"], color=\"red\", alpha=0.5, bins=np.arange(0, max(famdata[\"num_case\"])+5, 1), edgecolor=\"black\", linewidth=0.5, label=\"case\");\n",
    "ax.hist(famdata[\"num_ctrl\"], color=\"blue\", alpha=0.5, bins=np.arange(0, max(famdata[\"num_case\"])+5, 1), edgecolor=\"black\", linewidth=0.5, label=\"control\");\n",
    "\n",
    "ax.set_xlabel(\"# TR mutations per individual\", size=15);\n",
    "ax.set_ylabel(\"Frequency\", size=15);\n",
    "ax.axvline(x=np.median(famdata[\"num_case\"]), color=\"red\", linestyle=\"solid\")\n",
    "ax.axvline(x=np.median(famdata[\"num_ctrl\"]), color=\"blue\", linestyle=\"solid\")\n",
    "\n",
    "# Hide the right and top spines\n",
    "ax.spines['right'].set_visible(False)\n",
    "ax.spines['top'].set_visible(False)\n",
    "ax.yaxis.set_ticks_position('left')\n",
    "ax.xaxis.set_ticks_position('bottom');\n",
    "ax.legend(loc=\"upper right\")\n",
    "fig.savefig(os.path.join(OUTDIR, \"Figure1_NumDenovos-X.pdf\"))"
   ]
  },
  {
   "cell_type": "markdown",
   "metadata": {},
   "source": [
    "# Number of CHR X mutations annotations "
   ]
  },
  {
   "cell_type": "code",
   "execution_count": 43,
   "metadata": {},
   "outputs": [
    {
     "name": "stdout",
     "output_type": "stream",
     "text": [
      "FEATURE-CODING 1\n"
     ]
    },
    {
     "data": {
      "text/html": [
       "<div>\n",
       "<style scoped>\n",
       "    .dataframe tbody tr th:only-of-type {\n",
       "        vertical-align: middle;\n",
       "    }\n",
       "\n",
       "    .dataframe tbody tr th {\n",
       "        vertical-align: top;\n",
       "    }\n",
       "\n",
       "    .dataframe thead th {\n",
       "        text-align: right;\n",
       "    }\n",
       "</style>\n",
       "<table border=\"1\" class=\"dataframe\">\n",
       "  <thead>\n",
       "    <tr style=\"text-align: right;\">\n",
       "      <th></th>\n",
       "      <th>phenotype</th>\n",
       "      <th>chrom</th>\n",
       "      <th>pos</th>\n",
       "      <th>mutsize</th>\n",
       "      <th>motif</th>\n",
       "      <th>gene-coding</th>\n",
       "    </tr>\n",
       "  </thead>\n",
       "  <tbody>\n",
       "    <tr>\n",
       "      <th>280</th>\n",
       "      <td>2</td>\n",
       "      <td>X</td>\n",
       "      <td>136502889</td>\n",
       "      <td>-1</td>\n",
       "      <td>AAG</td>\n",
       "      <td>HTATSF1</td>\n",
       "    </tr>\n",
       "  </tbody>\n",
       "</table>\n",
       "</div>"
      ],
      "text/plain": [
       "     phenotype chrom        pos  mutsize motif gene-coding\n",
       "280          2     X  136502889       -1   AAG     HTATSF1"
      ]
     },
     "execution_count": 43,
     "metadata": {},
     "output_type": "execute_result"
    }
   ],
   "source": [
    "# Load annotation info\n",
    "annot = pd.read_csv(ANNOTFILE, sep=\"\\t\")\n",
    "annot[\"pos\"] = annot[\"start\"]\n",
    "\n",
    "# Merge\n",
    "adata = pd.merge(x, annot, on=[\"chrom\",\"pos\", \"period\"])\n",
    "col = 'FEATURE-CODING'\n",
    "out = adata[(adata[col]>0)].sort_values([\"chrom\", \"pos\", \"period\", \"family\"]).drop_duplicates()\n",
    "print(col, out.shape[0])\n",
    "out[[\"phenotype\", \"chrom\", \"pos\", \"mutsize\", \"motif\", \"gene-coding\"]]"
   ]
  }
 ],
 "metadata": {
  "kernelspec": {
   "display_name": "Python 3",
   "language": "python",
   "name": "python3"
  },
  "language_info": {
   "codemirror_mode": {
    "name": "ipython",
    "version": 3
   },
   "file_extension": ".py",
   "mimetype": "text/x-python",
   "name": "python",
   "nbconvert_exporter": "python",
   "pygments_lexer": "ipython3",
   "version": "3.6.8"
  }
 },
 "nbformat": 4,
 "nbformat_minor": 4
}
