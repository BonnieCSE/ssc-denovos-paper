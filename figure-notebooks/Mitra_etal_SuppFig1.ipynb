{
 "cells": [
  {
   "cell_type": "code",
   "execution_count": 1,
   "metadata": {},
   "outputs": [
    {
     "name": "stdout",
     "output_type": "stream",
     "text": [
      "Populating the interactive namespace from numpy and matplotlib\n"
     ]
    }
   ],
   "source": [
    "%pylab inline"
   ]
  },
  {
   "cell_type": "markdown",
   "metadata": {},
   "source": [
    "This notebook contains code to reproduce the following from Mitra, et al.:\n",
    "\n",
    "**Supplementary Figures:**\n",
    "* Supplementary Figure 1: Distribution of number of mutations to new alleles\n",
    "\n",
    "**Statistics:**\n",
    "* How many of the mutations result in common >1% alleles?"
   ]
  },
  {
   "cell_type": "code",
   "execution_count": 2,
   "metadata": {},
   "outputs": [],
   "source": [
    "# Input mutation results\n",
    "MUTFILE = \"/storage/ileena/ssc-gangstr-denovos/denovos_GW_priors_Jan20/combined/SSC_allphases_011720_denovos_GW_priors_Jan20.final_qc_mutations.tab\"\n",
    "\n",
    "# Make editable in Illustrator\n",
    "import matplotlib\n",
    "matplotlib.rcParams['pdf.fonttype'] = 42\n",
    "matplotlib.rcParams['ps.fonttype'] = 42\n",
    "\n",
    "# Imports\n",
    "import matplotlib.pyplot as plt\n",
    "import numpy as np\n",
    "import os\n",
    "import pandas as pd\n",
    "\n",
    "# Other input data\n",
    "ANNOTFILE = \"/storage/mgymrek/ssc-denovos/annotations/hg38_gangstr_MasterAnnotation.bed\"\n",
    "AFREQFILE = \"/storage/mgymrek/ssc-denovos/allele-freqs/SSC_merged_allele_counts.tab\"\n",
    "HETFILE = \"/storage/mgymrek/ssc-denovos/allele-freqs/SSC_merged_het.tab\"\n",
    "\n",
    "# Output path info\n",
    "OUTDIR = \"pdfs/\""
   ]
  },
  {
   "cell_type": "code",
   "execution_count": 3,
   "metadata": {},
   "outputs": [
    {
     "name": "stderr",
     "output_type": "stream",
     "text": [
      "/storage/resources/source/anaconda2/envs/py37/lib/python3.7/site-packages/IPython/core/interactiveshell.py:3058: DtypeWarning: Columns (0) have mixed types. Specify dtype option on import or set low_memory=False.\n",
      "  interactivity=interactivity, compiler=compiler, result=result)\n"
     ]
    }
   ],
   "source": [
    "# Load main mutations data\n",
    "alldata = pd.read_csv(MUTFILE, sep=\"\\t\")\n",
    "\n",
    "# Load annotation info\n",
    "annot = pd.read_csv(ANNOTFILE, sep=\"\\t\")\n",
    "\n",
    "# Set up fields\n",
    "def GetChrom(x):\n",
    "    if \"chr\" in str(x): return int(x[3:])\n",
    "    else: return int(x)\n",
    "alldata[\"chrom\"] = alldata[\"chrom\"].apply(GetChrom)\n",
    "annot = annot[annot[\"chrom\"].apply(lambda x: x not in [\"X\",\"chrX\",\"Y\",\"chrY\"])]\n",
    "annot[\"chrom\"] = annot[\"chrom\"].apply(GetChrom)\n",
    "annot[\"pos\"] = annot[\"start\"]\n",
    "\n",
    "# Merge\n",
    "adata = pd.merge(alldata, annot, on=[\"chrom\",\"pos\"])\n",
    "adata[\"newallele_bp\"] = adata.apply(lambda x: (x[\"newallele\"]-(x[\"end\"]-x[\"pos\"]+1)/(x[\"period_x\"]))*x[\"period_x\"], 1)"
   ]
  },
  {
   "cell_type": "code",
   "execution_count": 4,
   "metadata": {},
   "outputs": [
    {
     "name": "stderr",
     "output_type": "stream",
     "text": [
      "/storage/resources/source/anaconda2/envs/py37/lib/python3.7/site-packages/ipykernel_launcher.py:15: FutureWarning: \n",
      ".ix is deprecated. Please use\n",
      ".loc for label based indexing or\n",
      ".iloc for positional indexing\n",
      "\n",
      "See the documentation here:\n",
      "http://pandas.pydata.org/pandas-docs/stable/user_guide/indexing.html#ix-indexer-is-deprecated\n",
      "  from ipykernel import kernelapp as app\n",
      "/storage/resources/source/anaconda2/envs/py37/lib/python3.7/site-packages/ipykernel_launcher.py:16: FutureWarning: \n",
      ".ix is deprecated. Please use\n",
      ".loc for label based indexing or\n",
      ".iloc for positional indexing\n",
      "\n",
      "See the documentation here:\n",
      "http://pandas.pydata.org/pandas-docs/stable/user_guide/indexing.html#ix-indexer-is-deprecated\n",
      "  app.launch_new_instance()\n"
     ]
    }
   ],
   "source": [
    "def GetChrom(x):\n",
    "    if \"chr\" in str(x): return int(x[3:])\n",
    "    else: return int(x)\n",
    "\n",
    "het = pd.read_csv(HETFILE, sep=\"\\t\")\n",
    "het[\"chrom\"] = het[\"chrom\"].apply(GetChrom)\n",
    "\n",
    "afreq = pd.read_csv(AFREQFILE, sep=\"\\t\")\n",
    "afreq.columns = [\"chrom\",\"pos\",\"newallele\",\"count\"]\n",
    "afreq[\"chrom\"] = afreq[\"chrom\"].apply(GetChrom)\n",
    "afreq = pd.merge(afreq, het[[\"chrom\",\"pos\",\"total\"]], on=[\"chrom\",\"pos\"])\n",
    "afreq[\"freq\"] = afreq.apply(lambda x: float(x[\"count\"])/x[\"total\"], 1)\n",
    "\n",
    "fdata = pd.merge(adata, afreq, on=[\"chrom\",\"pos\",\"newallele\"], how=\"left\")\n",
    "fdata.ix[np.isnan(fdata[\"freq\"]),\"freq\"] = 0\n",
    "fdata.ix[np.isnan(fdata[\"count\"]),\"count\"] = 0"
   ]
  },
  {
   "cell_type": "code",
   "execution_count": 5,
   "metadata": {},
   "outputs": [
    {
     "name": "stdout",
     "output_type": "stream",
     "text": [
      "Fraction common: 0.844099888792496\n"
     ]
    },
    {
     "data": {
      "image/png": "[encoded data removed]",
      "text/plain": [
       "<Figure size 432x288 with 1 Axes>"
      ]
     },
     "metadata": {
      "needs_background": "light"
     },
     "output_type": "display_data"
    }
   ],
   "source": [
    "bins = [0, 0.0001, 0.01, 0.1, 0.5, 1]\n",
    "counts = []\n",
    "labels = []\n",
    "for i in range(len(bins)-1):\n",
    "    lb = bins[i]\n",
    "    ub = bins[i+1]\n",
    "    count = fdata[(fdata[\"freq\"]>=lb) & (fdata[\"freq\"]<=ub)].shape[0]\n",
    "    counts.append(count*1.0/fdata.shape[0]);\n",
    "    labels.append(\"%s-%s\"%(lb, ub))\n",
    "    \n",
    "fig = plt.figure()\n",
    "ax = fig.add_subplot(111)\n",
    "ax.bar(np.arange(len(bins)-1), counts, color=\"darkblue\");\n",
    "\n",
    "ax.spines['right'].set_visible(False)\n",
    "ax.spines['top'].set_visible(False)\n",
    "ax.yaxis.set_ticks_position('left')\n",
    "ax.xaxis.set_ticks_position('bottom');\n",
    "\n",
    "ax.set_xticks([item for item in np.arange(len(bins)-1)])\n",
    "ax.set_xticklabels(labels, rotation=45);\n",
    "ax.set_xlabel(\"Frequency of new allele\", size=15)\n",
    "ax.set_ylabel(\"Percent of mutations\", size=15);\n",
    "\n",
    "# How many are common >1%?\n",
    "print(\"Fraction common: %s\"%sum(counts[2:]))\n",
    "\n",
    "fig.savefig(os.path.join(OUTDIR, \"SuppFigure_AlleleFreqMutations.pdf\"));"
   ]
  }
 ],
 "metadata": {
  "kernelspec": {
   "display_name": "Python 3",
   "language": "python",
   "name": "python3"
  },
  "language_info": {
   "codemirror_mode": {
    "name": "ipython",
    "version": 3
   },
   "file_extension": ".py",
   "mimetype": "text/x-python",
   "name": "python",
   "nbconvert_exporter": "python",
   "pygments_lexer": "ipython3",
   "version": "3.7.4"
  }
 },
 "nbformat": 4,
 "nbformat_minor": 4
}
