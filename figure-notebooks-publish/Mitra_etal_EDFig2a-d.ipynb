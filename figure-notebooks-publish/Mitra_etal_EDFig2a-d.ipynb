{
 "cells": [
  {
   "cell_type": "code",
   "execution_count": 1,
   "metadata": {},
   "outputs": [
    {
     "name": "stdout",
     "output_type": "stream",
     "text": [
      "Populating the interactive namespace from numpy and matplotlib\n"
     ]
    }
   ],
   "source": [
    "%pylab inline"
   ]
  },
  {
   "cell_type": "markdown",
   "metadata": {},
   "source": [
    "This notebook contains code to reproduce the following from Mitra, et al.:\n",
    "\n",
    "**Extended Data Figures:** \n",
    "* Extended Data Figure 2a: Distribution of mutation rates by period \n",
    "* Extended Data Figure 2b: Mutation rate vs. length\n",
    "* Extended Data Figure 2c: Observed mutations at CODIS markers\n",
    "* Extended Data Figure 2d: MUTEA\n",
    "\n",
    "**Supplementary Tables**\n",
    "* Supplementary Table 4: Mutation rates and number of TRs per period\n",
    "\n",
    "**Statistics:**\n",
    "* Number of unique loci analyzed\n",
    "* Total average mutation rate\n",
    "* Mutation rates for each period\n",
    "* Correlation with MUTEA"
   ]
  },
  {
   "cell_type": "code",
   "execution_count": 2,
   "metadata": {},
   "outputs": [],
   "source": [
    "# Input per-locus info\n",
    "LOCFILE = \"/storage/mgymrek/ssc-denovos/denovos_GW_priors_Jan20/SSC_allphases_011720_denovos_GW_priors_Aug20.locus_stats_rmoutlierfams.tab\"\n",
    "\n",
    "# Make editable in Illustrator\n",
    "import matplotlib\n",
    "matplotlib.rcParams['pdf.fonttype'] = 42\n",
    "matplotlib.rcParams['ps.fonttype'] = 42\n",
    "\n",
    "# Imports\n",
    "import itertools\n",
    "import matplotlib.pyplot as plt\n",
    "import numpy as np\n",
    "import os\n",
    "import pandas as pd\n",
    "import scipy.stats\n",
    "\n",
    "# Other data paths\n",
    "ANNOTFILE = \"/storage/mgymrek/ssc-denovos/annotations/hg38_gangstr_MasterAnnotation-rmdup.bed\"\n",
    "CODISFILE = \"/storage/mgymrek/workspace/ssc-denovos/metadata/codis_hg38.csv\"\n",
    "NISTFILE = \"/storage/ileena/denovos4/annotations/nist_codis_info.txt\"\n",
    "MUTEAFILE = \"/storage/mgymrek/ssc-denovos/mutea/MUTEA_MutationRates_hg38_GangSTR.bed\"\n",
    "\n",
    "# Color keys\n",
    "colors = ['gray','red','gold','blue','green','purple','brown','salmon','magenta','cyan','darkblue']\n",
    "\n",
    "# Output path info\n",
    "OUTDIR = \"pdfs/\""
   ]
  },
  {
   "cell_type": "code",
   "execution_count": 3,
   "metadata": {},
   "outputs": [],
   "source": [
    "# Load per-locus mutation info\n",
    "data = pd.read_csv(LOCFILE, delim_whitespace=True)\n",
    "\n",
    "# Load annotation info\n",
    "annot = pd.read_csv(ANNOTFILE, sep=\"\\t\")\n",
    "\n",
    "# Set up fields\n",
    "def GetChrom(x):\n",
    "    if \"chr\" in str(x): return int(x[3:])\n",
    "    else: return int(x)\n",
    "data[\"chrom\"] = data[\"chrom\"].apply(GetChrom)\n",
    "annot = annot[annot[\"chrom\"].apply(lambda x: x not in [\"X\",\"chrX\",\"Y\",\"chrY\"])]\n",
    "annot[\"chrom\"] = annot[\"chrom\"].apply(GetChrom)\n",
    "annot[\"pos\"] = annot[\"start\"]\n",
    "\n",
    "# Merge\n",
    "adata = pd.merge(data, annot[[\"chrom\",\"pos\",\"end\",\"period\"]], on=[\"chrom\",\"pos\"])\n",
    "\n",
    "# Set up CODIS\n",
    "codis = pd.read_csv(CODISFILE)\n",
    "codis.columns = [\"chrom\",\"pos\",\"Marker\"]\n",
    "codis[\"chrom\"] = codis[\"chrom\"].apply(GetChrom)\n",
    "\n",
    "nist = pd.read_csv(NISTFILE, sep=\"\\t\")\n",
    "nist[\"mutrate\"] = nist[\"Total_Mutation_Rate\"]\n",
    "nist = nist[[\"Marker\",\"mutrate\"]]\n",
    "\n",
    "# Load MUTEA\n",
    "mutea = pd.read_csv(MUTEAFILE, sep=\"\\t\", names=[\"chrom\",\"pos\",\"end\",\"MUTEA\"])\n",
    "mutea[\"chrom\"] = mutea[\"chrom\"].apply(GetChrom)"
   ]
  },
  {
   "cell_type": "code",
   "execution_count": 4,
   "metadata": {},
   "outputs": [
    {
     "name": "stdout",
     "output_type": "stream",
     "text": [
      "Number of loci analyzed: 974004\n",
      "Max num families: 1593\n",
      "Num loci with mutations: 91915\n",
      "Total avg mutation rate: 5.61061117413921e-05\n"
     ]
    }
   ],
   "source": [
    "print(\"Number of loci analyzed: %s\"%data.shape[0]) # sanity check\n",
    "print(\"Max num families: %s\"%np.max(data[\"all_unaff\"])) # sanity check. should be 1593\n",
    "print(\"Num loci with mutations: %s\"%(data[(data[\"mut_unaff\"]+data[\"mut_aff\"])>0].shape[0])) # sanity check. should be 91925\n",
    "\n",
    "print(\"Total avg mutation rate: %s\"%(np.sum(data[\"mut_unaff\"]+data[\"mut_aff\"])*1.0/np.sum(data[\"all_unaff\"]+data[\"all_aff\"])))"
   ]
  },
  {
   "cell_type": "markdown",
   "metadata": {},
   "source": [
    "# Extended Data Figure 2a/Supp Table 4: Mutation rate by period"
   ]
  },
  {
   "cell_type": "code",
   "execution_count": 5,
   "metadata": {},
   "outputs": [
    {
     "name": "stderr",
     "output_type": "stream",
     "text": [
      "/usr/local/lib/python3.6/site-packages/ipykernel_launcher.py:10: RuntimeWarning: invalid value encountered in log10\n",
      "  # Remove the CWD from sys.path while we load stuff.\n"
     ]
    },
    {
     "name": "stdout",
     "output_type": "stream",
     "text": [
      "   period  mut_aff  mut_unaff  all_unaff      rate   rawrate    stderr  low  \\\n",
      "0       1   325079      49106  499032071 -4.006994  0.000098  0.009919  NaN   \n",
      "1       2    92425      20677  146235937 -3.849567  0.000141  0.011890  NaN   \n",
      "2       3   116185       3253  184411049 -4.753503  0.000018  0.004200  NaN   \n",
      "3       4   282332       9253  448304298 -4.685290  0.000021  0.004543  NaN   \n",
      "4       5   115465       1641  183090185 -5.047556  0.000009  0.002994  NaN   \n",
      "5       6    28166        356   44671945 -5.098585  0.000008  0.002823  NaN   \n",
      "6       7     6377         25   10099370 -5.606354  0.000002  0.001573  NaN   \n",
      "7       8     3961         37    6265823 -5.228776  0.000006  0.002430  NaN   \n",
      "8       9     1318         15    2079769 -5.141924  0.000007  0.002686  NaN   \n",
      "9      10      775          9    1216290 -5.130795  0.000007  0.002720  NaN   \n",
      "\n",
      "       high  \n",
      "0 -1.999231  \n",
      "1 -1.919680  \n",
      "2 -2.374935  \n",
      "3 -2.340681  \n",
      "4 -2.522482  \n",
      "5 -2.548070  \n",
      "6 -2.802495  \n",
      "7 -2.613335  \n",
      "8 -2.569799  \n",
      "9 -2.564219  \n"
     ]
    },
    {
     "data": {
      "image/png": "[encoded data removed]",
      "text/plain": [
       "<Figure size 432x288 with 1 Axes>"
      ]
     },
     "metadata": {
      "needs_background": "light"
     },
     "output_type": "display_data"
    }
   ],
   "source": [
    "fig = plt.figure()\n",
    "ax = fig.add_subplot(111)\n",
    "\n",
    "offset = 6 # to force bars to be positive\n",
    "\n",
    "xx = adata[adata[\"period\"]<=10].groupby([\"period\"], as_index=False).agg({\"mut_aff\": len, \"mut_unaff\": np.sum, \"all_unaff\": np.sum})\n",
    "xx[\"rate\"] = xx.apply(lambda x: np.log10(x[\"mut_unaff\"]*1.0/x[\"all_unaff\"]), 1)\n",
    "xx[\"rawrate\"] = xx[\"rate\"].apply(lambda x: 10**x)\n",
    "xx[\"stderr\"] = xx.apply(lambda x: np.sqrt(10**x[\"rate\"]*(1-10**x[\"rate\"])), 1)\n",
    "xx[\"low\"] = xx.apply(lambda x: np.log10(10**x[\"rate\"]-x[\"stderr\"]), 1)\n",
    "xx[\"high\"] = xx.apply(lambda x: np.log10(10**x[\"rate\"]+x[\"stderr\"]), 1)\n",
    "print(xx) # Numbers in each category\n",
    "\n",
    "ax.bar(xx[\"period\"], xx[\"rate\"]+offset, color=colors)\n",
    "# Hide the right and top spines\n",
    "ax.spines['right'].set_visible(False)\n",
    "ax.spines['top'].set_visible(False)\n",
    "ax.yaxis.set_ticks_position('left')\n",
    "ax.xaxis.set_ticks_position('bottom');\n",
    "ax.set_yticks(np.arange(-6+offset, -3.5+offset, 0.25))\n",
    "ax.set_yticklabels([\"%0.2f\"%item for item in np.arange(-6, -3.5, 0.25)])\n",
    "ax.set_xticks(xx[\"period\"])\n",
    "ax.set_xticklabels(xx[\"period\"])\n",
    "ax.set_xlabel(\"Repeat unit length\")\n",
    "ax.set_ylabel(\"Log10 mutation rate\")\n",
    "fig.savefig(os.path.join(OUTDIR, \"SuppFigure_MutByPeriod.pdf\"))"
   ]
  },
  {
   "cell_type": "markdown",
   "metadata": {},
   "source": [
    "# Extended Data Figure 2b: Mutation rate vs. length"
   ]
  },
  {
   "cell_type": "code",
   "execution_count": 6,
   "metadata": {},
   "outputs": [
    {
     "name": "stderr",
     "output_type": "stream",
     "text": [
      "/usr/local/lib/python3.6/site-packages/ipykernel_launcher.py:13: RuntimeWarning: invalid value encountered in double_scalars\n",
      "  del sys.path[0]\n"
     ]
    },
    {
     "data": {
      "image/png": "[encoded data removed]",
      "text/plain": [
       "<Figure size 432x288 with 1 Axes>"
      ]
     },
     "metadata": {
      "needs_background": "light"
     },
     "output_type": "display_data"
    }
   ],
   "source": [
    "adata[\"reflen\"] = adata[\"end\"]-adata[\"pos\"]+1\n",
    "lenbins = np.arange(10, 61, 10)\n",
    "\n",
    "fig = plt.figure()\n",
    "ax = fig.add_subplot(111)\n",
    "\n",
    "for period in range(1, 7):\n",
    "    muts = []\n",
    "    for i in range(len(lenbins)-1):\n",
    "        lb = lenbins[i]\n",
    "        ub = lenbins[i+1]\n",
    "        x = adata[(adata[\"period\"]==period) & (adata[\"reflen\"]>=lb) & (adata[\"reflen\"]<ub)]\n",
    "        muts.append(sum(x[\"mut_unaff\"])*1.0/sum(x[\"all_unaff\"]))\n",
    "    ax.plot(lenbins[:-1], np.log10(muts), color=colors[period-1], label=period, marker=\"o\")\n",
    "ax.set_xlabel(\"Reference length (bp)\", size=15);\n",
    "ax.set_ylabel(\"log10 mutation rate\", size=15);\n",
    "ax.legend(loc=\"lower right\")\n",
    "\n",
    "# Hide the right and top spines\n",
    "ax.spines['right'].set_visible(False)\n",
    "ax.spines['top'].set_visible(False)\n",
    "ax.yaxis.set_ticks_position('left')\n",
    "ax.xaxis.set_ticks_position('bottom');\n",
    "\n",
    "fig.savefig(os.path.join(OUTDIR, \"SuppFigure_MutByLength.pdf\"))"
   ]
  },
  {
   "cell_type": "markdown",
   "metadata": {},
   "source": [
    "# Extended Data Figure 2c: Observed mutations at CODIS markers"
   ]
  },
  {
   "cell_type": "code",
   "execution_count": 7,
   "metadata": {},
   "outputs": [
    {
     "data": {
      "image/png": "[encoded data removed]",
      "text/plain": [
       "<Figure size 432x288 with 1 Axes>"
      ]
     },
     "metadata": {
      "needs_background": "light"
     },
     "output_type": "display_data"
    }
   ],
   "source": [
    "nsim = 1000\n",
    "\n",
    "cdata = pd.merge(pd.merge(adata, codis, on=[\"chrom\",\"pos\"]), nist, on=[\"Marker\"])\n",
    "cdata[\"total_children\"] = cdata[\"all_aff\"]+data[\"all_unaff\"]\n",
    "cdata[\"total_mutations\"] = cdata[\"mut_aff\"]+data[\"mut_unaff\"]\n",
    "cdata[\"total_rate\"] = cdata[\"total_mutations\"]*1.0/cdata[\"total_children\"]\n",
    "\n",
    "cdata[\"codis_exp\"] = cdata.apply(lambda x: x[\"mutrate\"]*x[\"total_children\"], 1)\n",
    "cdata[\"codis_se\"] = cdata.apply(lambda x: np.sqrt(np.var(np.random.binomial(n=x[\"total_children\"], p=x[\"mutrate\"], size=nsim))), 1)\n",
    "\n",
    "cdata[\"codis_low\"] = cdata.apply(lambda x: np.percentile(np.random.binomial(n=x[\"total_children\"], p=x[\"mutrate\"], size=nsim), 2.5), 1)\n",
    "cdata[\"codis_high\"] = cdata.apply(lambda x: np.percentile(np.random.binomial(n=x[\"total_children\"], p=x[\"mutrate\"], size=nsim), 97.5), 1)\n",
    "\n",
    "fig = plt.figure()\n",
    "ax = fig.add_subplot(111)\n",
    "cdata = cdata.sort_values(\"codis_exp\")\n",
    "cdata[\"order\"] = range(cdata.shape[0])\n",
    "ax.scatter(cdata[\"order\"], cdata[\"codis_exp\"], color=\"black\", label=\"Expected\")\n",
    "for i in range(cdata.shape[0]):\n",
    "    x = cdata[\"order\"].values[i]\n",
    "    low = cdata[\"codis_low\"].values[i]\n",
    "    high = cdata[\"codis_high\"].values[i]\n",
    "    obs = cdata[\"total_mutations\"].values[i]\n",
    "    if i==0:\n",
    "        ax.scatter([x],[obs], color=\"red\", label=\"Observed\")\n",
    "        ax.plot([x,x],[low,high], color=\"black\", label=\"95\\% CI\")\n",
    "    else:\n",
    "        ax.scatter([x],[obs], color=\"red\")\n",
    "        ax.plot([x,x],[low,high], color=\"black\")\n",
    "ax.spines['right'].set_visible(False)\n",
    "ax.spines['top'].set_visible(False)\n",
    "ax.yaxis.set_ticks_position('left')\n",
    "ax.xaxis.set_ticks_position('bottom')\n",
    "ax.set_xticks(cdata[\"order\"])\n",
    "ax.set_xticklabels(cdata[\"Marker\"], rotation=90, size=12);\n",
    "ax.set_yticklabels(ax.get_yticks(), size=12)\n",
    "ax.set_ylabel(\"Number of mutations\", size=15)\n",
    "ax.legend(loc=\"upper left\", frameon=False)\n",
    "\n",
    "fig.savefig(os.path.join(OUTDIR, \"SuppFigure_CODIS.pdf\"))"
   ]
  },
  {
   "cell_type": "code",
   "execution_count": 10,
   "metadata": {},
   "outputs": [
    {
     "data": {
      "text/html": [
       "<div>\n",
       "<style scoped>\n",
       "    .dataframe tbody tr th:only-of-type {\n",
       "        vertical-align: middle;\n",
       "    }\n",
       "\n",
       "    .dataframe tbody tr th {\n",
       "        vertical-align: top;\n",
       "    }\n",
       "\n",
       "    .dataframe thead th {\n",
       "        text-align: right;\n",
       "    }\n",
       "</style>\n",
       "<table border=\"1\" class=\"dataframe\">\n",
       "  <thead>\n",
       "    <tr style=\"text-align: right;\">\n",
       "      <th></th>\n",
       "      <th>Marker</th>\n",
       "      <th>total_children</th>\n",
       "    </tr>\n",
       "  </thead>\n",
       "  <tbody>\n",
       "    <tr>\n",
       "      <td>1</td>\n",
       "      <td>TPOX</td>\n",
       "      <td>3161.0</td>\n",
       "    </tr>\n",
       "    <tr>\n",
       "      <td>3</td>\n",
       "      <td>D7S820</td>\n",
       "      <td>3176.0</td>\n",
       "    </tr>\n",
       "    <tr>\n",
       "      <td>0</td>\n",
       "      <td>D16S539</td>\n",
       "      <td>2991.0</td>\n",
       "    </tr>\n",
       "    <tr>\n",
       "      <td>4</td>\n",
       "      <td>D8S1179</td>\n",
       "      <td>3043.0</td>\n",
       "    </tr>\n",
       "    <tr>\n",
       "      <td>2</td>\n",
       "      <td>CSF1PO</td>\n",
       "      <td>3165.0</td>\n",
       "    </tr>\n",
       "  </tbody>\n",
       "</table>\n",
       "</div>"
      ],
      "text/plain": [
       "    Marker  total_children\n",
       "1     TPOX          3161.0\n",
       "3   D7S820          3176.0\n",
       "0  D16S539          2991.0\n",
       "4  D8S1179          3043.0\n",
       "2   CSF1PO          3165.0"
      ]
     },
     "execution_count": 10,
     "metadata": {},
     "output_type": "execute_result"
    }
   ],
   "source": [
    "cdata[[\"Marker\",\"total_children\"]]"
   ]
  },
  {
   "cell_type": "markdown",
   "metadata": {},
   "source": [
    "# Extended Data Figure 2d: MUTEA"
   ]
  },
  {
   "cell_type": "code",
   "execution_count": 8,
   "metadata": {},
   "outputs": [
    {
     "name": "stdout",
     "output_type": "stream",
     "text": [
      "              pos\n",
      "mut_unaff        \n",
      "0          513800\n",
      "1           26161\n",
      "2            5317\n",
      "3            3446\n",
      "(0.26324876299546696, 0.0)\n",
      "548724\n"
     ]
    },
    {
     "data": {
      "image/png": "[encoded data removed]",
      "text/plain": [
       "<Figure size 432x288 with 1 Axes>"
      ]
     },
     "metadata": {
      "needs_background": "light"
     },
     "output_type": "display_data"
    }
   ],
   "source": [
    "fig = plt.figure()\n",
    "ax = fig.add_subplot(111)\n",
    "boxprops = dict(linestyle='-', linewidth=1, color='k')\n",
    "medianprops = dict(linestyle='-', linewidth=1, color='k')\n",
    "\n",
    "mdata = pd.merge(adata, mutea, on=[\"chrom\",\"pos\",\"end\"])\n",
    "mdata[\"mut_unaff\"] = mdata[\"mut_unaff\"].apply(lambda x: [x, 3][x>=3])\n",
    "bp = mdata.boxplot(by=\"mut_unaff\", column=\"MUTEA\", sym=\"\", ax=ax, \n",
    "                                             grid=False, return_type=\"dict\")\n",
    "\n",
    "ax.set_xlabel(\"Number of mutations in SSC\", size=15)\n",
    "ax.set_ylabel(\"MUTEA Mutation rate (-log10)\", size=15)\n",
    "ax.set_xticklabels([\"0\",\"1\",\"2\",\"3+\"])\n",
    "ax.set_title(\"\");\n",
    "plt.suptitle(\"\");\n",
    "\n",
    "for key in [\"whiskers\",\"boxes\",\"medians\"]:\n",
    "    for item in bp[\"MUTEA\"][key]:\n",
    "        item.set_color(\"black\")\n",
    "\n",
    "# Print numbers in each category\n",
    "print(mdata.groupby(\"mut_unaff\").agg({\"pos\": len}))\n",
    "print(scipy.stats.pearsonr(mdata[\"mut_unaff\"],\n",
    "                          mdata[\"MUTEA\"]))\n",
    "print(mdata.shape[0])\n",
    "\n",
    "# Hide the right and top spines\n",
    "ax.spines['right'].set_visible(False)\n",
    "ax.spines['top'].set_visible(False)\n",
    "ax.yaxis.set_ticks_position('left')\n",
    "ax.xaxis.set_ticks_position('bottom');\n",
    "\n",
    "fig.savefig(os.path.join(OUTDIR, \"SuppFigure_MUTEA.pdf\"))"
   ]
  }
 ],
 "metadata": {
  "kernelspec": {
   "display_name": "Python 3",
   "language": "python",
   "name": "python3"
  },
  "language_info": {
   "codemirror_mode": {
    "name": "ipython",
    "version": 3
   },
   "file_extension": ".py",
   "mimetype": "text/x-python",
   "name": "python",
   "nbconvert_exporter": "python",
   "pygments_lexer": "ipython3",
   "version": "3.7.4"
  }
 },
 "nbformat": 4,
 "nbformat_minor": 4
}
